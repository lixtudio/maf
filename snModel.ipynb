{
 "cells": [
  {
   "cell_type": "markdown",
   "metadata": {},
   "source": [
    "### snModel\n",
    "Build a supernova light curve model and fit from a txt file."
   ]
  },
  {
   "cell_type": "code",
   "execution_count": 1,
   "metadata": {},
   "outputs": [],
   "source": [
    "import numpy as np\n",
    "import matplotlib\n",
    "matplotlib.use('TkAgg')\n",
    "\n",
    "import matplotlib.pyplot as plt\n",
    "%matplotlib inline\n",
    "\n",
    "import lsst.sims.maf.metrics as metrics\n",
    "import lsst.sims.maf.slicers as slicers\n",
    "import lsst.sims.maf.metricBundles as metricBundles\n",
    "import lsst.sims.maf.db as db\n",
    "import lsst.sims.maf.utils as utils\n",
    "import lsst.sims.maf.plots as plots\n",
    "\n",
    "# open database use OpsimDatabase\n",
    "opsdb = db.OpsimDatabase('baseline2018a.db')\n",
    "\n",
    "# output\n",
    "outDir = 'outdir'\n",
    "resultsDb = db.ResultsDb(outDir=outDir)"
   ]
  },
  {
   "cell_type": "markdown",
   "metadata": {},
   "source": [
    "### build a sn light curve model"
   ]
  },
  {
   "cell_type": "markdown",
   "metadata": {},
   "source": [
    "#### Model with 3 parameters \n",
    "\n",
    "\\begin{align}\n",
    "L(t) &= \\frac{E_{th}}{t_{sh}}(1-e^{-t/t_0}), \\text{ for } t<t_{sh} \\\\\n",
    "     &= \\frac{E_{th}}{t_{sh}}e^{-t/t_0}(e^{t_{sh}/t_0}-1),  \\text{ for } t>t_{sh}\n",
    "\\end{align}"
   ]
  },
  {
   "cell_type": "code",
   "execution_count": 2,
   "metadata": {
    "scrolled": false
   },
   "outputs": [
    {
     "data": {
      "application/vnd.jupyter.widget-view+json": {
       "model_id": "4bff17dcc8c240fd87a5c341dd51fd93",
       "version_major": 2,
       "version_minor": 0
      },
      "text/plain": [
       "interactive(children=(IntSlider(value=9, description='tsh', max=18), IntSlider(value=5, description='Esh', max…"
      ]
     },
     "metadata": {},
     "output_type": "display_data"
    }
   ],
   "source": [
    "from ipywidgets import interactive\n",
    "\n",
    "# SN model\n",
    "def snModel_3(t, tsh, Esh, t0):\n",
    "    # use np.piecewise(x,condition list, function)\n",
    "\n",
    "    condlist = [t < tsh, t >=tsh]\n",
    "    \n",
    "    func = [lambda t:Esh/tsh*(1-np.exp(-t/t0)), lambda t:Esh/tsh*np.exp(-t/t0)*(np.exp(tsh/t0)-1)]\n",
    "      \n",
    "    return np.piecewise(t, condlist, func)\n",
    "\n",
    "def snLcplot(tsh,Esh,t0):\n",
    "    t = np.arange(0,20,0.1)\n",
    "    mags = snModel_3(t,tsh=tsh,Esh=Esh,t0=t0)\n",
    "    plt.plot(t,mags)\n",
    "\n",
    "interactive_plot = interactive(snLcplot, tsh=(0,18),Esh=(0,10),t0=(0.1,20))\n",
    "interactive_plot\n"
   ]
  },
  {
   "cell_type": "markdown",
   "metadata": {},
   "source": [
    "#### model with six parameters \n",
    "\n",
    "\\begin{align}\n",
    "f &= \\frac{A+\\beta (t-t0)}{1+e^{-(t-t_0)/\\tau_{rise}}}, \\text{ for } t<t_1\\\\\n",
    "  &= \\frac{(A+\\beta(t_1-t_0))e^{-(t-t_1)/\\tau_{fall}}}{1+e^{-(t-t_0)/\\tau_{rise}}} \\text{ for } t>t_1\n",
    "\\end{align}"
   ]
  },
  {
   "cell_type": "code",
   "execution_count": 3,
   "metadata": {},
   "outputs": [
    {
     "data": {
      "application/vnd.jupyter.widget-view+json": {
       "model_id": "c2c8dae5e89647f3be301a4338a737b3",
       "version_major": 2,
       "version_minor": 0
      },
      "text/plain": [
       "interactive(children=(IntSlider(value=90, description='t1', max=180), IntSlider(value=5, description='A', max=…"
      ]
     },
     "metadata": {},
     "output_type": "display_data"
    }
   ],
   "source": [
    "def snModel_6(t, t1, A, t0, tau_rise, tau_fall, beta=0.1):\n",
    "    condlist = [t < t1, t >= t1]\n",
    "    \n",
    "    func = [lambda t: (A + beta * (t - t0)) / (1 + np.exp(-(t - t0) / tau_rise)), \n",
    "            lambda t: (A + beta * (t1 - t0)) * \n",
    "            np.exp(-(t - t1) / tau_fall) / (1 + np.exp(-(t - t0) / tau_rise))]\n",
    "      \n",
    "    return np.piecewise(t, condlist, func)\n",
    "\n",
    "def snLcplot(t1, A, t0, tau_rise, tau_fall, beta):\n",
    "    t = np.arange(0,200,0.1)\n",
    "    mags = snModel_6(t,t1=t1, A=A, t0=t0, tau_rise=tau_rise, tau_fall=tau_fall, beta=beta)\n",
    "    plt.plot(t,mags)\n",
    "\n",
    "interactive_plot = interactive(snLcplot, t1=(0,180), A=(0,10),t0=(0.1,200),tau_rise=(0.01,50), tau_fall=(0.1,200), beta=(-1,1,0.01))\n",
    "interactive_plot\n",
    "\n"
   ]
  },
  {
   "cell_type": "markdown",
   "metadata": {},
   "source": [
    "#### Polynomial model with 7 parameters"
   ]
  },
  {
   "cell_type": "code",
   "execution_count": 53,
   "metadata": {},
   "outputs": [
    {
     "data": {
      "application/vnd.jupyter.widget-view+json": {
       "model_id": "d56a1e94101f4dd0bd2952287c184097",
       "version_major": 2,
       "version_minor": 0
      },
      "text/plain": [
       "interactive(children=(IntSlider(value=5, description='a', max=10), FloatSlider(value=100.0, description='b', m…"
      ]
     },
     "metadata": {},
     "output_type": "display_data"
    }
   ],
   "source": [
    "def snModel_pl(x, a, b, c, d, e, f, g):\n",
    "    \n",
    "    return a + b*x + c*x**2 + d*x**3 + e*x**4 + f*x**5 + g*x**6\n",
    "\n",
    "def snLcplot(a, b, c, d, e, f, g):\n",
    "    t = np.arange(0,200,0.1)\n",
    "    mags = snModel_pl(t, a, b, c, d, e, f, g)\n",
    "    plt.plot(t,mags)\n",
    "\n",
    "interactive_plot = interactive(snLcplot, a=(0,10),b=(0.,200),c=(0.0,50), d=(0.,200), e=(-1,1,0.01), f=(0,10), g=(0,1))\n",
    "interactive_plot\n",
    "    "
   ]
  },
  {
   "cell_type": "markdown",
   "metadata": {},
   "source": [
    "### Fit the sn model from txt file"
   ]
  },
  {
   "cell_type": "code",
   "execution_count": 49,
   "metadata": {},
   "outputs": [
    {
     "data": {
      "text/plain": [
       "'/home/docmaf/maf_local/maf'"
      ]
     },
     "execution_count": 49,
     "metadata": {},
     "output_type": "execute_result"
    }
   ],
   "source": [
    "pwd"
   ]
  },
  {
   "cell_type": "code",
   "execution_count": 175,
   "metadata": {},
   "outputs": [],
   "source": [
    "# load light curve data\n",
    "lc = np.genfromtxt('1998bw.txt', dtype=[('phase','f8'),('mag','f8'),('filter','S1')], delimiter=' ')\n",
    "\n",
    "# decode byte to string\n",
    "lcfilter=[]\n",
    "for f in lc['filter']:\n",
    "    lcfilter.append(f.decode('UTF-8'))\n",
    "lcfilter = np.array(lcfilter) \n",
    "sortarray = np.argsort(lc['phase'])\n",
    "\n",
    "# lc for a filter 'r'\n",
    "fmatch = np.where(lcfilter[sortarray]=='r')\n",
    "lcmagr = lc['mag'][sortarray][fmatch]\n",
    "\n",
    "phaser = lc['phase'][sortarray][fmatch]\n",
    "\n"
   ]
  },
  {
   "cell_type": "code",
   "execution_count": 176,
   "metadata": {
    "scrolled": true
   },
   "outputs": [
    {
     "data": {
      "text/plain": [
       "(24, 12)"
      ]
     },
     "execution_count": 176,
     "metadata": {},
     "output_type": "execute_result"
    },
    {
     "data": {
      "image/png": "[encoded data removed]",
      "text/plain": [
       "<Figure size 432x288 with 1 Axes>"
      ]
     },
     "metadata": {},
     "output_type": "display_data"
    }
   ],
   "source": [
    "plt.plot(phaser,lcmagr,'r.-')\n",
    "plt.ylim([24, 12])"
   ]
  },
  {
   "cell_type": "code",
   "execution_count": 7,
   "metadata": {},
   "outputs": [],
   "source": [
    "# convert mag to flux\n",
    "def mag2flux(m, m0):\n",
    "    return 10**(-0.4 * (m - m0))\n",
    "def flux2mag(fx, m0):\n",
    "    return -2.5 * np.log10(fx) + m0"
   ]
  },
  {
   "cell_type": "code",
   "execution_count": 8,
   "metadata": {
    "scrolled": false
   },
   "outputs": [
    {
     "data": {
      "text/plain": [
       "[<matplotlib.lines.Line2D at 0x7f320801c5f8>]"
      ]
     },
     "execution_count": 8,
     "metadata": {},
     "output_type": "execute_result"
    },
    {
     "data": {
      "image/png": "[encoded data removed]",
      "text/plain": [
       "<Figure size 432x288 with 1 Axes>"
      ]
     },
     "metadata": {},
     "output_type": "display_data"
    }
   ],
   "source": [
    "fluxr = mag2flux(lcmagr, 18)\n",
    "\n",
    "plt.plot(phaser, fluxr, '.')"
   ]
  },
  {
   "cell_type": "code",
   "execution_count": 177,
   "metadata": {
    "scrolled": true
   },
   "outputs": [
    {
     "data": {
      "text/plain": [
       "array([15.58, 15.65, 15.82, 15.54, 15.44, 14.71, 14.28, 14.08, 13.88,\n",
       "       13.85, 13.75, 13.71, 13.71, 13.68, 13.63, 13.6 , 13.63, 13.64,\n",
       "       13.65, 13.68, 13.71, 13.74, 13.78, 13.81, 13.81, 13.83, 13.86,\n",
       "       14.31, 14.31, 14.24, 14.39, 14.44, 14.47, 14.53, 14.64, 14.68,\n",
       "       17.06, 17.06, 17.06, 18.1 , 18.14, 18.1 , 19.74, 19.87, 19.9 ,\n",
       "       19.9 , 20.21, 20.09, 20.2 , 20.27, 20.2 , 20.98, 20.83, 21.  ,\n",
       "       21.18, 21.  , 21.32, 20.87, 21.6 , 22.21, 21.6 , 22.1 , 22.59,\n",
       "       22.1 , 23.05])"
      ]
     },
     "execution_count": 177,
     "metadata": {},
     "output_type": "execute_result"
    }
   ],
   "source": [
    "lcmagr"
   ]
  },
  {
   "cell_type": "code",
   "execution_count": 178,
   "metadata": {
    "scrolled": false
   },
   "outputs": [
    {
     "data": {
      "text/plain": [
       "array([15.58, 15.65, 15.82, 15.54, 15.44, 14.71, 14.28, 14.08, 13.88,\n",
       "       13.85, 13.75, 13.71, 13.71, 13.68, 13.63, 13.6 , 13.63, 13.64,\n",
       "       13.65, 13.68, 13.71, 13.74, 13.78, 13.81, 13.81, 13.83, 13.86,\n",
       "       14.31, 14.31, 14.24, 14.39, 14.44, 14.47, 14.53, 14.64, 14.68,\n",
       "       17.06, 17.06, 17.06, 18.1 , 18.14, 18.1 , 19.74, 19.87, 19.9 ,\n",
       "       19.9 , 20.21, 20.09, 20.2 , 20.27, 20.2 , 20.98, 20.83, 21.  ,\n",
       "       21.18, 21.  , 21.32, 20.87, 21.6 , 22.21, 21.6 , 22.1 , 22.59,\n",
       "       22.1 , 23.05])"
      ]
     },
     "execution_count": 178,
     "metadata": {},
     "output_type": "execute_result"
    }
   ],
   "source": [
    "flux2mag(fluxr, 18)"
   ]
  },
  {
   "cell_type": "markdown",
   "metadata": {},
   "source": [
    "#### fit 3-parameter model"
   ]
  },
  {
   "cell_type": "code",
   "execution_count": 179,
   "metadata": {
    "scrolled": true
   },
   "outputs": [
    {
     "data": {
      "text/plain": [
       "[<matplotlib.lines.Line2D at 0x7f3206ba1278>,\n",
       " <matplotlib.lines.Line2D at 0x7f3206ba1390>]"
      ]
     },
     "execution_count": 179,
     "metadata": {},
     "output_type": "execute_result"
    },
    {
     "data": {
      "image/png": "[encoded data removed]",
      "text/plain": [
       "<Figure size 432x288 with 1 Axes>"
      ]
     },
     "metadata": {},
     "output_type": "display_data"
    }
   ],
   "source": [
    "from scipy.optimize import curve_fit\n",
    "\n",
    "xdat = phaser\n",
    "ydat = fluxr\n",
    "popt_3, pcov_3 = curve_fit(snModel_3, xdat, ydat)\n",
    "\n",
    "yfit_3 = snModel_3(xdat, *popt_3)\n",
    "plt.plot(xdat, ydat, 'r*', xdat, yfit_3,'y-')"
   ]
  },
  {
   "cell_type": "markdown",
   "metadata": {},
   "source": [
    "#### fit 6-parameter model"
   ]
  },
  {
   "cell_type": "code",
   "execution_count": 180,
   "metadata": {
    "scrolled": true
   },
   "outputs": [
    {
     "data": {
      "text/plain": [
       "[<matplotlib.lines.Line2D at 0x7f3206b7cd30>,\n",
       " <matplotlib.lines.Line2D at 0x7f3206b7ce48>]"
      ]
     },
     "execution_count": 180,
     "metadata": {},
     "output_type": "execute_result"
    },
    {
     "data": {
      "image/png": "[encoded data removed]",
      "text/plain": [
       "<Figure size 432x288 with 1 Axes>"
      ]
     },
     "metadata": {},
     "output_type": "display_data"
    }
   ],
   "source": [
    "xdat = phaser\n",
    "ydat = fluxr\n",
    "popt_6, pcov_6 = curve_fit(snModel_6, xdat, ydat)\n",
    "\n",
    "yfit_6 = snModel_6(xdat,*popt_6)\n",
    "plt.plot(xdat, ydat, 'r*', xdat, yfit_6,'y-')"
   ]
  },
  {
   "cell_type": "markdown",
   "metadata": {},
   "source": [
    "#### fit polynomial model"
   ]
  },
  {
   "cell_type": "code",
   "execution_count": 181,
   "metadata": {},
   "outputs": [
    {
     "data": {
      "text/plain": [
       "[<matplotlib.lines.Line2D at 0x7f3206ae1898>,\n",
       " <matplotlib.lines.Line2D at 0x7f3206ae19b0>]"
      ]
     },
     "execution_count": 181,
     "metadata": {},
     "output_type": "execute_result"
    },
    {
     "data": {
      "image/png": "[encoded data removed]",
      "text/plain": [
       "<Figure size 432x288 with 1 Axes>"
      ]
     },
     "metadata": {},
     "output_type": "display_data"
    }
   ],
   "source": [
    "xdat = phaser\n",
    "ydat = fluxr\n",
    "popt_pl, pcov_pl = curve_fit(snModel_pl, xdat, ydat)\n",
    "\n",
    "yfit_pl = snModel_pl(xdat, *popt_pl)\n",
    "plt.plot(xdat, ydat, 'r*', xdat, yfit_pl,'y-')\n"
   ]
  },
  {
   "cell_type": "code",
   "execution_count": 182,
   "metadata": {},
   "outputs": [
    {
     "data": {
      "text/plain": [
       "array([  17.57681555, 2019.05611777,   21.28678818])"
      ]
     },
     "execution_count": 182,
     "metadata": {},
     "output_type": "execute_result"
    }
   ],
   "source": [
    "popt_3"
   ]
  },
  {
   "cell_type": "code",
   "execution_count": 183,
   "metadata": {
    "scrolled": true
   },
   "outputs": [
    {
     "data": {
      "text/plain": [
       "array([ 17.48186617, 134.50562305,  23.33953006, -14.11948424,\n",
       "       214.45169464,   5.54074993])"
      ]
     },
     "execution_count": 183,
     "metadata": {},
     "output_type": "execute_result"
    }
   ],
   "source": [
    "popt_6"
   ]
  },
  {
   "cell_type": "code",
   "execution_count": 184,
   "metadata": {
    "scrolled": false
   },
   "outputs": [
    {
     "data": {
      "text/plain": [
       "<matplotlib.legend.Legend at 0x7f3206aa2080>"
      ]
     },
     "execution_count": 184,
     "metadata": {},
     "output_type": "execute_result"
    },
    {
     "data": {
      "image/png": "[encoded data removed]",
      "text/plain": [
       "<Figure size 432x288 with 1 Axes>"
      ]
     },
     "metadata": {},
     "output_type": "display_data"
    }
   ],
   "source": [
    "x = np.arange(0, 500, .1)\n",
    "y3 = snModel_3(x, *popt_3)\n",
    "y6 = snModel_6(x, *popt_6)\n",
    "ypl = snModel_pl(x, *popt_pl)\n",
    "plt.plot(phaser, fluxr, 'r*' ,x, y3, x, y6, x, ypl)\n",
    "plt.legend(['data', 'snModel_3', 'snModel_6', 'snModel_pl'])"
   ]
  },
  {
   "cell_type": "markdown",
   "metadata": {},
   "source": [
    "## likelihood ratio test"
   ]
  },
  {
   "cell_type": "markdown",
   "metadata": {},
   "source": [
    "likelihood for Gaussian distribution\n",
    "\n",
    "\\begin{align}\n",
    "L = (2 \\pi \\sigma^2)^{-n/2} e^{-\\frac{1}{2\\sigma^2}\\sum(x_j - \\mu)^2 }\n",
    "\\end{align}\n",
    "\n",
    "log-likelihood function\n",
    "\\begin{align}\n",
    "logL = -\\frac{n}{2} ln(2\\pi) - \\frac{n}{2}ln(\\sigma^2) - \\frac{1}{2\\sigma^2}\\sum (x_j - \\mu)^2 \n",
    "\\end{align}\n",
    "\n",
    "\n",
    "\n",
    "likelihood ratio test\n",
    "\n",
    "\\begin{align}\n",
    "R_L = \\frac{L_0}{L_1} \\\\\n",
    "\\chi^2 = -2 ln(R_L) = -2 (ln L_0 - ln L_1) = \\frac{1}{\\sigma^2} \\sum_0 (x_j - \\mu)^2 - \\frac{1}{\\sigma^2} \\sum_1 (x_j - \\mu)^2\n",
    "\\end{align}\n",
    "\n",
    "The decision rule \n",
    "- If $\\chi^2 > c$, do not reject H_0. \n",
    "- If $\\chi^2 < c$, reject H_0.\n",
    "\n",
    "significance level $\\alpha$\n",
    "\\begin{align}\n",
    "P( \\chi^2 < c) = \\alpha\n",
    "\\end{align}"
   ]
  },
  {
   "cell_type": "code",
   "execution_count": 18,
   "metadata": {},
   "outputs": [],
   "source": [
    "from scipy.stats import chi2\n"
   ]
  },
  {
   "cell_type": "code",
   "execution_count": 308,
   "metadata": {
    "scrolled": true
   },
   "outputs": [
    {
     "data": {
      "text/plain": [
       "[<matplotlib.lines.Line2D at 0x7f3206168400>,\n",
       " <matplotlib.lines.Line2D at 0x7f3206168550>]"
      ]
     },
     "execution_count": 308,
     "metadata": {},
     "output_type": "execute_result"
    },
    {
     "data": {
      "image/png": "[encoded data removed]",
      "text/plain": [
       "<Figure size 432x288 with 1 Axes>"
      ]
     },
     "metadata": {},
     "output_type": "display_data"
    }
   ],
   "source": [
    "x = np.linspace(0, 20, 500)\n",
    "\n",
    "y3 = chi2.pdf(x, 3)   # chi square degree of freedom 3\n",
    "y6 = chi2.pdf(x, 6)\n",
    "\n",
    "plt.plot(x, y3, x, y6)"
   ]
  },
  {
   "cell_type": "code",
   "execution_count": 25,
   "metadata": {
    "scrolled": false
   },
   "outputs": [
    {
     "data": {
      "text/plain": [
       "[<matplotlib.lines.Line2D at 0x7f320856cf60>]"
      ]
     },
     "execution_count": 25,
     "metadata": {},
     "output_type": "execute_result"
    },
    {
     "data": {
      "image/png": "[encoded data removed]",
      "text/plain": [
       "<Figure size 432x288 with 1 Axes>"
      ]
     },
     "metadata": {},
     "output_type": "display_data"
    }
   ],
   "source": [
    "y = chi2.cdf(x, 3)\n",
    "plt.plot(x, y, '-')"
   ]
  },
  {
   "cell_type": "code",
   "execution_count": 144,
   "metadata": {
    "scrolled": false
   },
   "outputs": [
    {
     "data": {
      "text/plain": [
       "[<matplotlib.lines.Line2D at 0x7f3207eebbe0>]"
      ]
     },
     "execution_count": 144,
     "metadata": {},
     "output_type": "execute_result"
    },
    {
     "data": {
      "image/png": "[encoded data removed]",
      "text/plain": [
       "<Figure size 432x288 with 1 Axes>"
      ]
     },
     "metadata": {},
     "output_type": "display_data"
    }
   ],
   "source": [
    "x = np.linspace(0,1)\n",
    "y = chi2.ppf(x,3)\n",
    "plt.plot(x, y, '-')"
   ]
  },
  {
   "cell_type": "code",
   "execution_count": 300,
   "metadata": {},
   "outputs": [],
   "source": [
    "def logL(ydat, yfit):\n",
    "    error = ydat - yfit\n",
    "    sigma2 = np.std(error)**2\n",
    "    \n",
    "    return np.sum( (ydat - yfit)**2 / sigma2)\n"
   ]
  },
  {
   "cell_type": "code",
   "execution_count": 301,
   "metadata": {
    "scrolled": false
   },
   "outputs": [
    {
     "data": {
      "text/plain": [
       "(68.18690189772323, 65.73707338911596, 65.00000000000051)"
      ]
     },
     "execution_count": 301,
     "metadata": {},
     "output_type": "execute_result"
    }
   ],
   "source": [
    "logL_3 = logL(ydat, yfit_3)/\n",
    "logL_6 = logL(ydat, yfit_6)\n",
    "logL_pl = logL(ydat, yfit_pl)\n",
    "logL_3, logL_6, logL_pl"
   ]
  },
  {
   "cell_type": "markdown",
   "metadata": {},
   "source": [
    "goodness of fit for a model"
   ]
  },
  {
   "cell_type": "code",
   "execution_count": 306,
   "metadata": {
    "scrolled": true
   },
   "outputs": [
    {
     "data": {
      "text/plain": [
       "(1.0997887402858586, 1.1141876845612875, 1.1206896551724226)"
      ]
     },
     "execution_count": 306,
     "metadata": {},
     "output_type": "execute_result"
    }
   ],
   "source": [
    "logL_3/(65 - 3), logL_6/(65 - 6), logL_pl/(65 - 7)"
   ]
  },
  {
   "cell_type": "code",
   "execution_count": 302,
   "metadata": {
    "scrolled": false
   },
   "outputs": [
    {
     "data": {
      "text/plain": [
       "2.4498285086072684"
      ]
     },
     "execution_count": 302,
     "metadata": {},
     "output_type": "execute_result"
    }
   ],
   "source": [
    "ratio = logL_3 - logL_6\n",
    "\n",
    "ratio"
   ]
  },
  {
   "cell_type": "code",
   "execution_count": 299,
   "metadata": {
    "scrolled": false
   },
   "outputs": [
    {
     "data": {
      "text/plain": [
       "7.814727903251179"
      ]
     },
     "execution_count": 299,
     "metadata": {},
     "output_type": "execute_result"
    }
   ],
   "source": [
    "chi2.ppf(0.95, 3)"
   ]
  },
  {
   "cell_type": "markdown",
   "metadata": {},
   "source": [
    " snModel_6 is better, reject snModel_3"
   ]
  },
  {
   "cell_type": "markdown",
   "metadata": {},
   "source": [
    "### fit type IIp light curve"
   ]
  },
  {
   "cell_type": "code",
   "execution_count": 250,
   "metadata": {},
   "outputs": [],
   "source": [
    "# load light curve data\n",
    "lc_IIp = np.genfromtxt('lc_IIp.txt', dtype=[('phase','f8'),('mag','f8'),('filter','S1')], delimiter=' ')\n",
    "\n",
    "# decode byte to string\n",
    "lcfilter=[]\n",
    "for f in lc_IIp['filter']:\n",
    "    lcfilter.append(f.decode('UTF-8'))\n",
    "lcfilter = np.array(lcfilter) \n",
    "sortarray = np.argsort(lc_IIp['phase'])\n",
    "\n",
    "# lc for a filter 'r'\n",
    "fmatch = np.where(lcfilter[sortarray]=='r')\n",
    "lcmagr_IIp = lc_IIp['mag'][sortarray][fmatch]\n",
    "\n",
    "phaser_IIp = lc_IIp['phase'][sortarray][fmatch]\n"
   ]
  },
  {
   "cell_type": "code",
   "execution_count": 254,
   "metadata": {},
   "outputs": [
    {
     "data": {
      "text/plain": [
       "(22, 17)"
      ]
     },
     "execution_count": 254,
     "metadata": {},
     "output_type": "execute_result"
    },
    {
     "data": {
      "image/png": "[encoded data removed]",
      "text/plain": [
       "<Figure size 432x288 with 1 Axes>"
      ]
     },
     "metadata": {},
     "output_type": "display_data"
    }
   ],
   "source": [
    "plt.plot(phaser_IIp, lcmagr_IIp, 'r.-')\n",
    "plt.ylim([22, 17])"
   ]
  },
  {
   "cell_type": "code",
   "execution_count": 255,
   "metadata": {
    "scrolled": true
   },
   "outputs": [
    {
     "data": {
      "text/plain": [
       "[<matplotlib.lines.Line2D at 0x7f32064177b8>]"
      ]
     },
     "execution_count": 255,
     "metadata": {},
     "output_type": "execute_result"
    },
    {
     "data": {
      "image/png": "[encoded data removed]",
      "text/plain": [
       "<Figure size 432x288 with 1 Axes>"
      ]
     },
     "metadata": {},
     "output_type": "display_data"
    }
   ],
   "source": [
    "fluxr_IIp = mag2flux(lcmagr_IIp, 18)\n",
    "\n",
    "plt.plot(phaser_IIp, fluxr_IIp, 'r.-')"
   ]
  },
  {
   "cell_type": "markdown",
   "metadata": {},
   "source": [
    "#### fit model 3"
   ]
  },
  {
   "cell_type": "code",
   "execution_count": 256,
   "metadata": {
    "scrolled": false
   },
   "outputs": [
    {
     "data": {
      "text/plain": [
       "[<matplotlib.lines.Line2D at 0x7f32064073c8>,\n",
       " <matplotlib.lines.Line2D at 0x7f32064074e0>]"
      ]
     },
     "execution_count": 256,
     "metadata": {},
     "output_type": "execute_result"
    },
    {
     "data": {
      "image/png": "[encoded data removed]",
      "text/plain": [
       "<Figure size 432x288 with 1 Axes>"
      ]
     },
     "metadata": {},
     "output_type": "display_data"
    }
   ],
   "source": [
    "xdat_IIp = phaser_IIp\n",
    "ydat_IIp = fluxr_IIp\n",
    "popt_3_IIp, pcov_3_IIp = curve_fit(snModel_3, xdat_IIp, ydat_IIp)\n",
    "\n",
    "yfit_3_IIp = snModel_3(xdat_IIp, *popt_3_IIp)\n",
    "plt.plot(xdat_IIp, ydat_IIp, 'r*', xdat_IIp, yfit_3_IIp,'y-')"
   ]
  },
  {
   "cell_type": "markdown",
   "metadata": {},
   "source": [
    "#### fit model 6"
   ]
  },
  {
   "cell_type": "code",
   "execution_count": 258,
   "metadata": {},
   "outputs": [
    {
     "data": {
      "text/plain": [
       "[<matplotlib.lines.Line2D at 0x7f32062d84a8>,\n",
       " <matplotlib.lines.Line2D at 0x7f32062d85c0>]"
      ]
     },
     "execution_count": 258,
     "metadata": {},
     "output_type": "execute_result"
    },
    {
     "data": {
      "image/png": "[encoded data removed]",
      "text/plain": [
       "<Figure size 432x288 with 1 Axes>"
      ]
     },
     "metadata": {},
     "output_type": "display_data"
    }
   ],
   "source": [
    "popt_6_IIp, pcov_6_IIp = curve_fit(snModel_6, xdat_IIp, ydat_IIp, maxfev=3000)\n",
    "\n",
    "yfit_6_IIp = snModel_6(xdat_IIp,*popt_6_IIp)\n",
    "plt.plot(xdat_IIp, ydat_IIp, 'r*', xdat_IIp, yfit_6_IIp,'y-')"
   ]
  },
  {
   "cell_type": "markdown",
   "metadata": {},
   "source": [
    "#### fit polynomial"
   ]
  },
  {
   "cell_type": "code",
   "execution_count": 259,
   "metadata": {},
   "outputs": [
    {
     "data": {
      "text/plain": [
       "[<matplotlib.lines.Line2D at 0x7f32062bcf98>,\n",
       " <matplotlib.lines.Line2D at 0x7f32062c90f0>]"
      ]
     },
     "execution_count": 259,
     "metadata": {},
     "output_type": "execute_result"
    },
    {
     "data": {
      "image/png": "[encoded data removed]",
      "text/plain": [
       "<Figure size 432x288 with 1 Axes>"
      ]
     },
     "metadata": {},
     "output_type": "display_data"
    }
   ],
   "source": [
    "popt_pl_IIp, pcov_pl_IIp = curve_fit(snModel_pl, xdat_IIp, ydat_IIp)\n",
    "\n",
    "yfit_pl_IIp = snModel_pl(xdat_IIp, *popt_pl_IIp)\n",
    "plt.plot(xdat_IIp, ydat_IIp, 'r*', xdat_IIp, yfit_pl_IIp,'y-')\n"
   ]
  },
  {
   "cell_type": "code",
   "execution_count": 260,
   "metadata": {
    "scrolled": true
   },
   "outputs": [
    {
     "data": {
      "text/plain": [
       "<matplotlib.legend.Legend at 0x7f3206282128>"
      ]
     },
     "execution_count": 260,
     "metadata": {},
     "output_type": "execute_result"
    },
    {
     "data": {
      "image/png": "[encoded data removed]",
      "text/plain": [
       "<Figure size 432x288 with 1 Axes>"
      ]
     },
     "metadata": {},
     "output_type": "display_data"
    }
   ],
   "source": [
    "x = np.arange(0, 200, .1)\n",
    "y3 = snModel_3(x, *popt_3_IIp)\n",
    "y6 = snModel_6(x, *popt_6_IIp)\n",
    "ypl = snModel_pl(x, *popt_pl_IIp)\n",
    "plt.plot(xdat_IIp, ydat_IIp, 'r*' ,x, y3, x, y6, x, ypl)\n",
    "plt.legend(['data', 'snModel_3', 'snModel_6', 'snModel_pl'])\n"
   ]
  },
  {
   "cell_type": "markdown",
   "metadata": {},
   "source": [
    "### likelihood ratio test"
   ]
  },
  {
   "cell_type": "code",
   "execution_count": 262,
   "metadata": {
    "scrolled": true
   },
   "outputs": [
    {
     "data": {
      "text/plain": [
       "(77.14782985602979, 77.8824465189271, 77.00000000000101)"
      ]
     },
     "execution_count": 262,
     "metadata": {},
     "output_type": "execute_result"
    }
   ],
   "source": [
    "logL_3_IIp = logL(ydat_IIp, yfit_3_IIp)\n",
    "logL_6_IIp = logL(ydat_IIp, yfit_6_IIp)\n",
    "logL_pl_IIp = logL(ydat_IIp, yfit_pl_IIp)\n",
    "logL_3_IIp, logL_6_IIp, logL_pl_IIp"
   ]
  },
  {
   "cell_type": "code",
   "execution_count": 280,
   "metadata": {
    "scrolled": true
   },
   "outputs": [
    {
     "data": {
      "text/plain": [
       "0.1478298560287783"
      ]
     },
     "execution_count": 280,
     "metadata": {},
     "output_type": "execute_result"
    }
   ],
   "source": [
    "ratio_IIp = logL_3_IIp - logL_pl_IIp\n",
    "ratio_IIp"
   ]
  },
  {
   "cell_type": "code",
   "execution_count": 281,
   "metadata": {},
   "outputs": [
    {
     "data": {
      "text/plain": [
       "9.487729036781154"
      ]
     },
     "execution_count": 281,
     "metadata": {},
     "output_type": "execute_result"
    }
   ],
   "source": [
    "chi2.ppf(0.95, 4)"
   ]
  },
  {
   "cell_type": "code",
   "execution_count": 307,
   "metadata": {
    "scrolled": true
   },
   "outputs": [
    {
     "data": {
      "text/plain": [
       "(1.2443198363875771, 1.320041466422493, 1.3275862068965691)"
      ]
     },
     "execution_count": 307,
     "metadata": {},
     "output_type": "execute_result"
    }
   ],
   "source": [
    "logL_3_IIp/(65 - 3), logL_6_IIp/(65 - 6), logL_pl_IIp/(65 - 7)"
   ]
  },
  {
   "cell_type": "markdown",
   "metadata": {},
   "source": [
    "model3 and model 6 are similar, can't use likelihood ratio"
   ]
  },
  {
   "cell_type": "markdown",
   "metadata": {},
   "source": [
    "snModel_6 is better"
   ]
  },
  {
   "cell_type": "markdown",
   "metadata": {},
   "source": [
    "##### model comparison "
   ]
  },
  {
   "cell_type": "code",
   "execution_count": 133,
   "metadata": {},
   "outputs": [],
   "source": [
    "def AIC(logL, N, k):\n",
    "    return logL + 2*k + (2 * k * (k+1) ) / (N - k - 1)\n",
    "\n",
    "def BIC(logL, N, k):\n",
    "    return logL + k * np.log(N)"
   ]
  },
  {
   "cell_type": "code",
   "execution_count": 132,
   "metadata": {},
   "outputs": [
    {
     "data": {
      "text/plain": [
       "(74.58034452067405, 79.18534925118493, 80.96491228070226)"
      ]
     },
     "execution_count": 132,
     "metadata": {},
     "output_type": "execute_result"
    }
   ],
   "source": [
    "aic_3 = AIC(logL_3, 65, 3)\n",
    "aic_6 = AIC(logL_6, 65, 6)\n",
    "aic_pl = AIC(logL_pl, 65, 7)\n",
    "aic_3, aic_6, aic_pl"
   ]
  },
  {
   "cell_type": "code",
   "execution_count": 134,
   "metadata": {
    "scrolled": true
   },
   "outputs": [
    {
     "data": {
      "text/plain": [
       "(80.71006370741014, 90.78339700848979, 94.22071088926997)"
      ]
     },
     "execution_count": 134,
     "metadata": {},
     "output_type": "execute_result"
    }
   ],
   "source": [
    "bic_3 = BIC(logL_3, 65, 3)\n",
    "bic_6 = BIC(logL_6, 65, 6)\n",
    "bic_pl = BIC(logL_pl, 65, 7)\n",
    "bic_3, bic_6, bic_pl"
   ]
  },
  {
   "cell_type": "markdown",
   "metadata": {},
   "source": [
    "better to choose model3"
   ]
  }
 ],
 "metadata": {
  "kernelspec": {
   "display_name": "Python 3",
   "language": "python",
   "name": "python3"
  },
  "language_info": {
   "codemirror_mode": {
    "name": "ipython",
    "version": 3
   },
   "file_extension": ".py",
   "mimetype": "text/x-python",
   "name": "python",
   "nbconvert_exporter": "python",
   "pygments_lexer": "ipython3",
   "version": "3.6.2"
  }
 },
 "nbformat": 4,
 "nbformat_minor": 2
}
