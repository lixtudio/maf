{
 "cells": [
  {
   "cell_type": "markdown",
   "metadata": {},
   "source": [
    "## TDEs with LSST"
   ]
  },
  {
   "cell_type": "code",
   "execution_count": 1,
   "metadata": {},
   "outputs": [],
   "source": [
    "import os\n",
    "import numpy as np\n",
    "import pandas as pd\n",
    "import matplotlib\n",
    "import matplotlib.pyplot as plt\n",
    "%matplotlib inline\n",
    "\n",
    "import lsst.sims.maf.metrics as metrics\n",
    "import lsst.sims.maf.slicers as slicers\n",
    "import lsst.sims.maf.metricBundles as metricBundles\n",
    "import lsst.sims.maf.db as db\n",
    "import lsst.sims.maf.utils as utils\n",
    "import lsst.sims.maf.plots as plots\n",
    "\n",
    "# open database use OpsimDatabase\n",
    "opsdb = db.OpsimDatabase('baseline2018a.db')\n",
    "# output\n",
    "outDir = 'outdir'\n",
    "resultsDb = db.ResultsDb(outDir=outDir)\n"
   ]
  },
  {
   "cell_type": "markdown",
   "metadata": {
    "heading_collapsed": true
   },
   "source": [
    "## write a metric to get data of any column"
   ]
  },
  {
   "cell_type": "code",
   "execution_count": 2,
   "metadata": {
    "hidden": true
   },
   "outputs": [],
   "source": [
    "class getDataMetric(metrics.BaseMetric):\n",
    "    \"\"\"\n",
    "    returns required data \n",
    "    \"\"\"\n",
    "    \n",
    "    def __init__(self, colname=['expMJD', 'airmass'], **kwargs):\n",
    "        self.colname = colname\n",
    "        super().__init__(col=colname, metricDtype='object', **kwargs)\n",
    "        \n",
    "        \n",
    "    def run(self, dataSlice, slicePoint=None):\n",
    "        \n",
    "        # return dataSlice directly\n",
    "        result = dataSlice\n",
    "        \n",
    "        return result\n",
    "   "
   ]
  },
  {
   "cell_type": "code",
   "execution_count": 33,
   "metadata": {
    "hidden": true,
    "scrolled": true
   },
   "outputs": [
    {
     "name": "stdout",
     "output_type": "stream",
     "text": [
      "Querying database SummaryAllProps with constraint night<20 for columns ['night', 'fieldDec', 'fieldRA', 'observationStartMJD', 'filter', 'skyBrightness']\n",
      "Found 15051 visits\n",
      "Running:  ['Sky']\n",
      "Completed metric generation.\n",
      "Running reduce methods.\n",
      "Running summary statistics.\n",
      "Completed.\n",
      "Plotting figures with \"night<20\" constraint now.\n",
      "Plotting complete.\n"
     ]
    },
    {
     "name": "stderr",
     "output_type": "stream",
     "text": [
      "/home/docmaf/repos/sims_maf/python/lsst/sims/maf/db/resultsDb.py:290: UserWarning: Warning! Cannot save non-conforming summary statistic.\n",
      "  warnings.warn('Warning! Cannot save non-conforming summary statistic.')\n"
     ]
    }
   ],
   "source": [
    "metric = getDataMetric(colname=['night', 'observationStartMJD', 'fieldId', 'skyBrightness', 'filter'])\n",
    "slicer = slicers.UniSlicer()\n",
    "#slicer = slicers.HealpixSlicer(nside=16)\n",
    "sqlconstraint = 'night<20'\n",
    "\n",
    "# bundle\n",
    "Sky = metricBundles.MetricBundle(metric, slicer, sqlconstraint)\n",
    "\n",
    "# group bundle\n",
    "bundleDict = {'Sky':Sky}\n",
    "group = metricBundles.MetricBundleGroup(bundleDict, opsdb, outDir = outDir, resultsDb=resultsDb)\n",
    "\n",
    "# run\n",
    "group.runAll()\n",
    "group.plotAll(closefigs = False)\n"
   ]
  },
  {
   "cell_type": "code",
   "execution_count": 34,
   "metadata": {
    "hidden": true
   },
   "outputs": [],
   "source": [
    "data = Sky.metricValues.data\n",
    "\n",
    "dataframe = pd.DataFrame(data[0])"
   ]
  },
  {
   "cell_type": "code",
   "execution_count": 35,
   "metadata": {
    "hidden": true,
    "scrolled": true
   },
   "outputs": [
    {
     "data": {
      "text/plain": [
       "array(['g', 'i', 'r', 'y', 'z'], dtype=object)"
      ]
     },
     "execution_count": 35,
     "metadata": {},
     "output_type": "execute_result"
    }
   ],
   "source": [
    "np.unique(dataframe['filter'])"
   ]
  },
  {
   "cell_type": "markdown",
   "metadata": {
    "heading_collapsed": true
   },
   "source": [
    "## get light curve of TDEs from txt"
   ]
  },
  {
   "cell_type": "code",
   "execution_count": 44,
   "metadata": {
    "hidden": true,
    "scrolled": true
   },
   "outputs": [
    {
     "data": {
      "text/html": [
       "<div>\n",
       "<style>\n",
       "    .dataframe thead tr:only-child th {\n",
       "        text-align: right;\n",
       "    }\n",
       "\n",
       "    .dataframe thead th {\n",
       "        text-align: left;\n",
       "    }\n",
       "\n",
       "    .dataframe tbody tr th {\n",
       "        vertical-align: top;\n",
       "    }\n",
       "</style>\n",
       "<table border=\"1\" class=\"dataframe\">\n",
       "  <thead>\n",
       "    <tr style=\"text-align: right;\">\n",
       "      <th></th>\n",
       "      <th>event</th>\n",
       "      <th>time</th>\n",
       "      <th>magnitude</th>\n",
       "      <th>e_magnitude</th>\n",
       "      <th>upperlimit</th>\n",
       "      <th>band</th>\n",
       "      <th>instrument</th>\n",
       "      <th>telescope</th>\n",
       "      <th>source</th>\n",
       "    </tr>\n",
       "  </thead>\n",
       "  <tbody>\n",
       "    <tr>\n",
       "      <th>0</th>\n",
       "      <td>PTF09ge</td>\n",
       "      <td>54910.453</td>\n",
       "      <td>22.0011</td>\n",
       "      <td>NaN</td>\n",
       "      <td>T</td>\n",
       "      <td>g</td>\n",
       "      <td>PTF 48-Inch</td>\n",
       "      <td>NaN</td>\n",
       "      <td>2014ApJ...793...38A</td>\n",
       "    </tr>\n",
       "    <tr>\n",
       "      <th>1</th>\n",
       "      <td>PTF09ge</td>\n",
       "      <td>54917.259</td>\n",
       "      <td>21.3492</td>\n",
       "      <td>NaN</td>\n",
       "      <td>T</td>\n",
       "      <td>g</td>\n",
       "      <td>PTF 48-Inch</td>\n",
       "      <td>NaN</td>\n",
       "      <td>2014ApJ...793...38A</td>\n",
       "    </tr>\n",
       "    <tr>\n",
       "      <th>2</th>\n",
       "      <td>PTF09ge</td>\n",
       "      <td>54918.404</td>\n",
       "      <td>21.5973</td>\n",
       "      <td>NaN</td>\n",
       "      <td>T</td>\n",
       "      <td>g</td>\n",
       "      <td>PTF 48-Inch</td>\n",
       "      <td>NaN</td>\n",
       "      <td>2014ApJ...793...38A</td>\n",
       "    </tr>\n",
       "    <tr>\n",
       "      <th>3</th>\n",
       "      <td>PTF09ge</td>\n",
       "      <td>54921.240</td>\n",
       "      <td>21.3838</td>\n",
       "      <td>NaN</td>\n",
       "      <td>T</td>\n",
       "      <td>g</td>\n",
       "      <td>PTF 48-Inch</td>\n",
       "      <td>NaN</td>\n",
       "      <td>2014ApJ...793...38A</td>\n",
       "    </tr>\n",
       "    <tr>\n",
       "      <th>4</th>\n",
       "      <td>PTF09ge</td>\n",
       "      <td>54921.316</td>\n",
       "      <td>21.5319</td>\n",
       "      <td>NaN</td>\n",
       "      <td>T</td>\n",
       "      <td>g</td>\n",
       "      <td>PTF 48-Inch</td>\n",
       "      <td>NaN</td>\n",
       "      <td>2014ApJ...793...38A</td>\n",
       "    </tr>\n",
       "  </tbody>\n",
       "</table>\n",
       "</div>"
      ],
      "text/plain": [
       "     event       time  magnitude  e_magnitude upperlimit band   instrument  \\\n",
       "0  PTF09ge  54910.453    22.0011          NaN          T    g  PTF 48-Inch   \n",
       "1  PTF09ge  54917.259    21.3492          NaN          T    g  PTF 48-Inch   \n",
       "2  PTF09ge  54918.404    21.5973          NaN          T    g  PTF 48-Inch   \n",
       "3  PTF09ge  54921.240    21.3838          NaN          T    g  PTF 48-Inch   \n",
       "4  PTF09ge  54921.316    21.5319          NaN          T    g  PTF 48-Inch   \n",
       "\n",
       "   telescope               source  \n",
       "0        NaN  2014ApJ...793...38A  \n",
       "1        NaN  2014ApJ...793...38A  \n",
       "2        NaN  2014ApJ...793...38A  \n",
       "3        NaN  2014ApJ...793...38A  \n",
       "4        NaN  2014ApJ...793...38A  "
      ]
     },
     "execution_count": 44,
     "metadata": {},
     "output_type": "execute_result"
    }
   ],
   "source": [
    "tde_csv = pd.read_csv('tdelc.txt')  # downloaded from http://tde.space\n",
    "tde_csv.head(5)"
   ]
  },
  {
   "cell_type": "code",
   "execution_count": 58,
   "metadata": {
    "hidden": true
   },
   "outputs": [],
   "source": [
    "del tde_csv['upperlimit'] "
   ]
  },
  {
   "cell_type": "code",
   "execution_count": 65,
   "metadata": {
    "hidden": true
   },
   "outputs": [
    {
     "data": {
      "text/html": [
       "<div>\n",
       "<style>\n",
       "    .dataframe thead tr:only-child th {\n",
       "        text-align: right;\n",
       "    }\n",
       "\n",
       "    .dataframe thead th {\n",
       "        text-align: left;\n",
       "    }\n",
       "\n",
       "    .dataframe tbody tr th {\n",
       "        vertical-align: top;\n",
       "    }\n",
       "</style>\n",
       "<table border=\"1\" class=\"dataframe\">\n",
       "  <thead>\n",
       "    <tr style=\"text-align: right;\">\n",
       "      <th></th>\n",
       "      <th>time</th>\n",
       "      <th>magnitude</th>\n",
       "      <th>e_magnitude</th>\n",
       "      <th>band</th>\n",
       "    </tr>\n",
       "  </thead>\n",
       "  <tbody>\n",
       "    <tr>\n",
       "      <th>5</th>\n",
       "      <td>54958.174</td>\n",
       "      <td>19.1773</td>\n",
       "      <td>0.048395</td>\n",
       "      <td>r</td>\n",
       "    </tr>\n",
       "    <tr>\n",
       "      <th>6</th>\n",
       "      <td>54958.231</td>\n",
       "      <td>19.2245</td>\n",
       "      <td>0.051890</td>\n",
       "      <td>r</td>\n",
       "    </tr>\n",
       "    <tr>\n",
       "      <th>7</th>\n",
       "      <td>54958.308</td>\n",
       "      <td>19.2480</td>\n",
       "      <td>0.050447</td>\n",
       "      <td>r</td>\n",
       "    </tr>\n",
       "    <tr>\n",
       "      <th>8</th>\n",
       "      <td>54958.368</td>\n",
       "      <td>19.1125</td>\n",
       "      <td>0.049466</td>\n",
       "      <td>r</td>\n",
       "    </tr>\n",
       "    <tr>\n",
       "      <th>9</th>\n",
       "      <td>54958.415</td>\n",
       "      <td>19.1886</td>\n",
       "      <td>0.043521</td>\n",
       "      <td>r</td>\n",
       "    </tr>\n",
       "  </tbody>\n",
       "</table>\n",
       "</div>"
      ],
      "text/plain": [
       "        time  magnitude  e_magnitude band\n",
       "5  54958.174    19.1773     0.048395    r\n",
       "6  54958.231    19.2245     0.051890    r\n",
       "7  54958.308    19.2480     0.050447    r\n",
       "8  54958.368    19.1125     0.049466    r\n",
       "9  54958.415    19.1886     0.043521    r"
      ]
     },
     "execution_count": 65,
     "metadata": {},
     "output_type": "execute_result"
    }
   ],
   "source": [
    "tdelc = tde_csv.dropna()\n",
    "tdelc.head()"
   ]
  },
  {
   "cell_type": "code",
   "execution_count": 67,
   "metadata": {
    "hidden": true
   },
   "outputs": [],
   "source": [
    "tdelc.to_csv('tdelc.csv', index=False)"
   ]
  },
  {
   "cell_type": "code",
   "execution_count": 69,
   "metadata": {
    "hidden": true,
    "scrolled": true
   },
   "outputs": [
    {
     "data": {
      "text/html": [
       "<div>\n",
       "<style>\n",
       "    .dataframe thead tr:only-child th {\n",
       "        text-align: right;\n",
       "    }\n",
       "\n",
       "    .dataframe thead th {\n",
       "        text-align: left;\n",
       "    }\n",
       "\n",
       "    .dataframe tbody tr th {\n",
       "        vertical-align: top;\n",
       "    }\n",
       "</style>\n",
       "<table border=\"1\" class=\"dataframe\">\n",
       "  <thead>\n",
       "    <tr style=\"text-align: right;\">\n",
       "      <th></th>\n",
       "      <th>time</th>\n",
       "      <th>magnitude</th>\n",
       "      <th>e_magnitude</th>\n",
       "      <th>band</th>\n",
       "    </tr>\n",
       "  </thead>\n",
       "  <tbody>\n",
       "    <tr>\n",
       "      <th>0</th>\n",
       "      <td>54958.174</td>\n",
       "      <td>19.1773</td>\n",
       "      <td>0.048395</td>\n",
       "      <td>r</td>\n",
       "    </tr>\n",
       "    <tr>\n",
       "      <th>1</th>\n",
       "      <td>54958.231</td>\n",
       "      <td>19.2245</td>\n",
       "      <td>0.051890</td>\n",
       "      <td>r</td>\n",
       "    </tr>\n",
       "    <tr>\n",
       "      <th>2</th>\n",
       "      <td>54958.308</td>\n",
       "      <td>19.2480</td>\n",
       "      <td>0.050447</td>\n",
       "      <td>r</td>\n",
       "    </tr>\n",
       "    <tr>\n",
       "      <th>3</th>\n",
       "      <td>54958.368</td>\n",
       "      <td>19.1125</td>\n",
       "      <td>0.049466</td>\n",
       "      <td>r</td>\n",
       "    </tr>\n",
       "    <tr>\n",
       "      <th>4</th>\n",
       "      <td>54958.415</td>\n",
       "      <td>19.1886</td>\n",
       "      <td>0.043521</td>\n",
       "      <td>r</td>\n",
       "    </tr>\n",
       "  </tbody>\n",
       "</table>\n",
       "</div>"
      ],
      "text/plain": [
       "        time  magnitude  e_magnitude band\n",
       "0  54958.174    19.1773     0.048395    r\n",
       "1  54958.231    19.2245     0.051890    r\n",
       "2  54958.308    19.2480     0.050447    r\n",
       "3  54958.368    19.1125     0.049466    r\n",
       "4  54958.415    19.1886     0.043521    r"
      ]
     },
     "execution_count": 69,
     "metadata": {},
     "output_type": "execute_result"
    }
   ],
   "source": [
    "tdelc = pd.read_csv('tdelc.csv')\n",
    "tdelc.head()"
   ]
  },
  {
   "cell_type": "code",
   "execution_count": 84,
   "metadata": {
    "hidden": true
   },
   "outputs": [
    {
     "data": {
      "text/plain": [
       "array(['g', 'i', 'r'], dtype=object)"
      ]
     },
     "execution_count": 84,
     "metadata": {},
     "output_type": "execute_result"
    }
   ],
   "source": [
    "np.unique(tdelc['band'])"
   ]
  },
  {
   "cell_type": "code",
   "execution_count": 114,
   "metadata": {
    "hidden": true,
    "scrolled": true
   },
   "outputs": [
    {
     "data": {
      "image/png": "[encoded data removed]",
      "text/plain": [
       "<Figure size 432x288 with 1 Axes>"
      ]
     },
     "metadata": {},
     "output_type": "display_data"
    }
   ],
   "source": [
    "def plotlc(tdelc):\n",
    "    colors = {'g':'g', 'i':'m', 'r':'r'}\n",
    "\n",
    "    for f in np.unique(tdelc['band']):\n",
    "        time = tdelc.loc[tdelc['band']==f]['phase']\n",
    "        mag = tdelc.loc[tdelc['band']==f]['magnitude']\n",
    "        magerr = tdelc.loc[tdelc['band']==f]['e_magnitude']\n",
    "\n",
    "        #plt.plot(time, mag, color=colors[f], marker='.')\n",
    "        plt.errorbar(time, mag, yerr=magerr, color=colors[f], marker='.')\n",
    "        plt.ylim([21, 17])\n",
    "        \n",
    "plotlc(tdelc)"
   ]
  },
  {
   "cell_type": "code",
   "execution_count": 97,
   "metadata": {
    "hidden": true
   },
   "outputs": [],
   "source": [
    "phase = tdelc['time'] - np.min(tdelc['time'])"
   ]
  },
  {
   "cell_type": "code",
   "execution_count": 100,
   "metadata": {
    "hidden": true
   },
   "outputs": [
    {
     "data": {
      "text/html": [
       "<div>\n",
       "<style>\n",
       "    .dataframe thead tr:only-child th {\n",
       "        text-align: right;\n",
       "    }\n",
       "\n",
       "    .dataframe thead th {\n",
       "        text-align: left;\n",
       "    }\n",
       "\n",
       "    .dataframe tbody tr th {\n",
       "        vertical-align: top;\n",
       "    }\n",
       "</style>\n",
       "<table border=\"1\" class=\"dataframe\">\n",
       "  <thead>\n",
       "    <tr style=\"text-align: right;\">\n",
       "      <th></th>\n",
       "      <th>phase</th>\n",
       "    </tr>\n",
       "  </thead>\n",
       "  <tbody>\n",
       "    <tr>\n",
       "      <th>0</th>\n",
       "      <td>0.000</td>\n",
       "    </tr>\n",
       "    <tr>\n",
       "      <th>1</th>\n",
       "      <td>0.057</td>\n",
       "    </tr>\n",
       "    <tr>\n",
       "      <th>2</th>\n",
       "      <td>0.134</td>\n",
       "    </tr>\n",
       "    <tr>\n",
       "      <th>3</th>\n",
       "      <td>0.194</td>\n",
       "    </tr>\n",
       "    <tr>\n",
       "      <th>4</th>\n",
       "      <td>0.241</td>\n",
       "    </tr>\n",
       "  </tbody>\n",
       "</table>\n",
       "</div>"
      ],
      "text/plain": [
       "   phase\n",
       "0  0.000\n",
       "1  0.057\n",
       "2  0.134\n",
       "3  0.194\n",
       "4  0.241"
      ]
     },
     "execution_count": 100,
     "metadata": {},
     "output_type": "execute_result"
    }
   ],
   "source": [
    "phase_col = pd.DataFrame({'phase':phase})\n",
    "phase_col.head()"
   ]
  },
  {
   "cell_type": "code",
   "execution_count": 108,
   "metadata": {
    "hidden": true
   },
   "outputs": [],
   "source": [
    "tdelc['phase'] = phase_col"
   ]
  },
  {
   "cell_type": "code",
   "execution_count": 110,
   "metadata": {
    "hidden": true
   },
   "outputs": [
    {
     "data": {
      "text/html": [
       "<div>\n",
       "<style>\n",
       "    .dataframe thead tr:only-child th {\n",
       "        text-align: right;\n",
       "    }\n",
       "\n",
       "    .dataframe thead th {\n",
       "        text-align: left;\n",
       "    }\n",
       "\n",
       "    .dataframe tbody tr th {\n",
       "        vertical-align: top;\n",
       "    }\n",
       "</style>\n",
       "<table border=\"1\" class=\"dataframe\">\n",
       "  <thead>\n",
       "    <tr style=\"text-align: right;\">\n",
       "      <th></th>\n",
       "      <th>time</th>\n",
       "      <th>magnitude</th>\n",
       "      <th>e_magnitude</th>\n",
       "      <th>band</th>\n",
       "      <th>phase</th>\n",
       "    </tr>\n",
       "  </thead>\n",
       "  <tbody>\n",
       "    <tr>\n",
       "      <th>0</th>\n",
       "      <td>54958.174</td>\n",
       "      <td>19.1773</td>\n",
       "      <td>0.048395</td>\n",
       "      <td>r</td>\n",
       "      <td>0.000</td>\n",
       "    </tr>\n",
       "    <tr>\n",
       "      <th>1</th>\n",
       "      <td>54958.231</td>\n",
       "      <td>19.2245</td>\n",
       "      <td>0.051890</td>\n",
       "      <td>r</td>\n",
       "      <td>0.057</td>\n",
       "    </tr>\n",
       "    <tr>\n",
       "      <th>2</th>\n",
       "      <td>54958.308</td>\n",
       "      <td>19.2480</td>\n",
       "      <td>0.050447</td>\n",
       "      <td>r</td>\n",
       "      <td>0.134</td>\n",
       "    </tr>\n",
       "    <tr>\n",
       "      <th>3</th>\n",
       "      <td>54958.368</td>\n",
       "      <td>19.1125</td>\n",
       "      <td>0.049466</td>\n",
       "      <td>r</td>\n",
       "      <td>0.194</td>\n",
       "    </tr>\n",
       "    <tr>\n",
       "      <th>4</th>\n",
       "      <td>54958.415</td>\n",
       "      <td>19.1886</td>\n",
       "      <td>0.043521</td>\n",
       "      <td>r</td>\n",
       "      <td>0.241</td>\n",
       "    </tr>\n",
       "  </tbody>\n",
       "</table>\n",
       "</div>"
      ],
      "text/plain": [
       "        time  magnitude  e_magnitude band  phase\n",
       "0  54958.174    19.1773     0.048395    r  0.000\n",
       "1  54958.231    19.2245     0.051890    r  0.057\n",
       "2  54958.308    19.2480     0.050447    r  0.134\n",
       "3  54958.368    19.1125     0.049466    r  0.194\n",
       "4  54958.415    19.1886     0.043521    r  0.241"
      ]
     },
     "execution_count": 110,
     "metadata": {},
     "output_type": "execute_result"
    }
   ],
   "source": [
    "tdelc.head()"
   ]
  },
  {
   "cell_type": "code",
   "execution_count": 111,
   "metadata": {
    "hidden": true
   },
   "outputs": [],
   "source": [
    "del tdelc['time']"
   ]
  },
  {
   "cell_type": "code",
   "execution_count": 117,
   "metadata": {
    "hidden": true,
    "scrolled": false
   },
   "outputs": [
    {
     "data": {
      "text/html": [
       "<div>\n",
       "<style>\n",
       "    .dataframe thead tr:only-child th {\n",
       "        text-align: right;\n",
       "    }\n",
       "\n",
       "    .dataframe thead th {\n",
       "        text-align: left;\n",
       "    }\n",
       "\n",
       "    .dataframe tbody tr th {\n",
       "        vertical-align: top;\n",
       "    }\n",
       "</style>\n",
       "<table border=\"1\" class=\"dataframe\">\n",
       "  <thead>\n",
       "    <tr style=\"text-align: right;\">\n",
       "      <th></th>\n",
       "      <th>phase</th>\n",
       "      <th>magnitude</th>\n",
       "      <th>e_magnitude</th>\n",
       "      <th>band</th>\n",
       "    </tr>\n",
       "  </thead>\n",
       "  <tbody>\n",
       "    <tr>\n",
       "      <th>0</th>\n",
       "      <td>0.000</td>\n",
       "      <td>19.1773</td>\n",
       "      <td>0.048395</td>\n",
       "      <td>r</td>\n",
       "    </tr>\n",
       "    <tr>\n",
       "      <th>1</th>\n",
       "      <td>0.057</td>\n",
       "      <td>19.2245</td>\n",
       "      <td>0.051890</td>\n",
       "      <td>r</td>\n",
       "    </tr>\n",
       "    <tr>\n",
       "      <th>2</th>\n",
       "      <td>0.134</td>\n",
       "      <td>19.2480</td>\n",
       "      <td>0.050447</td>\n",
       "      <td>r</td>\n",
       "    </tr>\n",
       "    <tr>\n",
       "      <th>3</th>\n",
       "      <td>0.194</td>\n",
       "      <td>19.1125</td>\n",
       "      <td>0.049466</td>\n",
       "      <td>r</td>\n",
       "    </tr>\n",
       "    <tr>\n",
       "      <th>4</th>\n",
       "      <td>0.241</td>\n",
       "      <td>19.1886</td>\n",
       "      <td>0.043521</td>\n",
       "      <td>r</td>\n",
       "    </tr>\n",
       "  </tbody>\n",
       "</table>\n",
       "</div>"
      ],
      "text/plain": [
       "   phase  magnitude  e_magnitude band\n",
       "0  0.000    19.1773     0.048395    r\n",
       "1  0.057    19.2245     0.051890    r\n",
       "2  0.134    19.2480     0.050447    r\n",
       "3  0.194    19.1125     0.049466    r\n",
       "4  0.241    19.1886     0.043521    r"
      ]
     },
     "execution_count": 117,
     "metadata": {},
     "output_type": "execute_result"
    }
   ],
   "source": [
    "cols = ['phase', 'magnitude', 'e_magnitude', 'band']\n",
    "tdelc = tdelc[cols]\n",
    "tdelc.head()"
   ]
  },
  {
   "cell_type": "code",
   "execution_count": 140,
   "metadata": {
    "hidden": true,
    "scrolled": true
   },
   "outputs": [],
   "source": [
    "tdelc_order = tdelc.sort_values(['band', 'phase'])"
   ]
  },
  {
   "cell_type": "code",
   "execution_count": 141,
   "metadata": {
    "hidden": true
   },
   "outputs": [],
   "source": [
    "# write prepared data to file\n",
    "tdelc_order.to_csv('tde.dat', index=False, header=False, sep=' ')"
   ]
  },
  {
   "cell_type": "markdown",
   "metadata": {},
   "source": [
    "## evaluate detection of TDEs from opsim database "
   ]
  },
  {
   "cell_type": "code",
   "execution_count": 2,
   "metadata": {
    "code_folding": [
     62,
     101,
     140
    ]
   },
   "outputs": [],
   "source": [
    "\n",
    "class TransientAsciiMetricNew(metrics.BaseMetric):\n",
    "    \"\"\"Based on the transientMetric, but uses an ascii input file and provides option to write out lightcurve.\n",
    "\n",
    "    Calculate what fraction of the transients would be detected. Best paired with a spatial slicer.\n",
    "    The lightcurve in input is an ascii file per photometric band so that different lightcurve\n",
    "    shapes can be implemented.\n",
    "\n",
    "    Parameters\n",
    "    ----------\n",
    "    asciifile : str\n",
    "        The ascii file containing the inputs for the lightcurve (per filter):\n",
    "        File should contain three columns - ['ph', 'mag', 'flt'] -\n",
    "        of phase/epoch (in days), magnitude (in a particular filter), and filter.\n",
    "    surveyDuration : float, optional\n",
    "        Length of survey (years).\n",
    "        Default 10 or maximum of timespan of observations.\n",
    "    surveyStart : float, optional\n",
    "        MJD for the survey start date.\n",
    "        Default None (uses the time of the first observation at each pointing).\n",
    "    detectSNR : dict, optional\n",
    "        An observation will be counted toward the discovery criteria if the light curve SNR\n",
    "        is higher than detectSNR (specified per bandpass).\n",
    "        Values must be provided for each filter which should be considered in the lightcurve.\n",
    "        Default is {'u': 5, 'g': 5, 'r': 5, 'i': 5, 'z': 5, 'y': 5}\n",
    "    nPreT : int, optional\n",
    "        Number of observations (in any filter(s)) to demand before preT,\n",
    "        before saying a transient has been detected.\n",
    "        Default 0.\n",
    "    preT : float, optional\n",
    "        The time by which nPreT detections are required (in days).\n",
    "        Default 5.0.\n",
    "    nFilters : int, optional\n",
    "        Number of filters that need to be observed for an object to be counted as detected.\n",
    "        Default 1. (if nPerLC is 0, then this will be reset to 0).\n",
    "    #-------------------------------------------\n",
    "    nFiltersPreT: Number of filters required to be observed before preT\n",
    "\n",
    "    #-------------------------------------------\n",
    "\n",
    "    filterT : float, optional\n",
    "        The time within which observations in at least nFilters are required (in days).\n",
    "        Default None (no time constraint).\n",
    "    nPerLC : int, optional\n",
    "        Number of sections of the light curve that must be sampled above the detectSNR theshold\n",
    "        for the light curve to be counted.\n",
    "        For example, nPerLC = 2 means a light curve  is only considered detected if there\n",
    "        is at least 1 observation in the first half of the LC, and at least one in the second half of the LC.\n",
    "        nPerLC = 4 means each quarter of the light curve must be detected to count.\n",
    "        Default 1.\n",
    "    nPhaseCheck : int, optional\n",
    "        Sets the number of phases that should be checked.\n",
    "        One can imagine pathological cadences where many objects pass the detection criteria,\n",
    "        but would not if the observations were offset by a phase-shift.\n",
    "        Default 1.\n",
    "    peakOffset : float, optional\n",
    "        Add peakOffset to the magnitudes in the ascii file. Default 0.\n",
    "    dataout : bool, optional\n",
    "        If True, metric returns full lightcurve at each point. Note that this will potentially\n",
    "        create a very large metric output data file.\n",
    "        If False, metric returns the number of transients detected.\n",
    "    \"\"\"\n",
    "    def __init__(self, asciifile, metricName='TransientAsciiMetricNew', mjdCol='expMJD',\n",
    "                 m5Col='fiveSigmaDepth', filterCol='filter',\n",
    "                 surveyDuration=10., surveyStart=None,\n",
    "                 detectSNR={'u': 5, 'g': 5, 'r': 5, 'i': 5, 'z': 5, 'y': 5},\n",
    "                 nPreT=0, preT=5.0, nFilters=1, nFiltersPreT=1, filterT=None, nPerLC=1, nPhaseCheck=1,\n",
    "                 peakOffset=0.0, dataout=False, **kwargs):\n",
    "        self.mjdCol = mjdCol\n",
    "        self.m5Col = m5Col\n",
    "        self.filterCol = filterCol\n",
    "        self.dataout = dataout\n",
    "\n",
    "        # if you want to get the light curve in output you need to define the metricDtype as object\n",
    "        if self.dataout:\n",
    "            super(TransientAsciiMetricNew, self).__init__(col=[self.mjdCol, self.m5Col, self.filterCol],\n",
    "                                                       metricDtype='object', units='',\n",
    "                                                       metricName=metricName, **kwargs)\n",
    "        else:\n",
    "            super(TransientAsciiMetricNew, self).__init__(col=[self.mjdCol, self.m5Col, self.filterCol],\n",
    "                                                       units='Fraction Detected', metricName=metricName,\n",
    "                                                       **kwargs)\n",
    "        self.surveyDuration = surveyDuration\n",
    "        self.surveyStart = surveyStart\n",
    "        self.detectSNR = detectSNR\n",
    "        self.nPreT = nPreT\n",
    "        self.preT = preT\n",
    "        self.nFilters = nFilters\n",
    "\n",
    "        self.nFiltersPreT = nFiltersPreT\n",
    "\n",
    "        self.filterT = filterT\n",
    "\n",
    "        self.peakOffset = peakOffset\n",
    "        self.nPerLC = nPerLC\n",
    "        if self.nPerLC == 0:\n",
    "            self.nFilters = 0\n",
    "        self.nPhaseCheck = nPhaseCheck\n",
    "        # Read ascii lightcurve template here. It doesn't change per slicePoint.\n",
    "        self.read_lightCurve(asciifile)\n",
    "\n",
    "    def read_lightCurve(self, asciifile):\n",
    "        \"\"\"Reads in an ascii file, 3 columns: epoch, magnitude, filter\n",
    "\n",
    "        Returns\n",
    "        -------\n",
    "        numpy.ndarray\n",
    "            The data read from the ascii text file, in a numpy structured array with columns\n",
    "            'ph' (phase / epoch, in days), 'mag' (magnitude), 'flt' (filter for the magnitude).\n",
    "        \"\"\"\n",
    "        if not os.path.isfile(asciifile):\n",
    "            raise IOError('Could not find lightcurve ascii file %s' % (asciifile))\n",
    "        self.lcv_template = np.genfromtxt(asciifile, dtype=[('ph', 'f8'), ('mag', 'f8'), ('flt', 'S1')])\n",
    "        self.transDuration = self.lcv_template['ph'].max() - self.lcv_template['ph'].min()\n",
    "\n",
    "    def make_lightCurve(self, time, filters):\n",
    "        \"\"\"Turn lightcurve definition into magnitudes at a series of times.\n",
    "\n",
    "        Parameters\n",
    "        ----------\n",
    "        time : numpy.ndarray\n",
    "            The times of the observations.\n",
    "        filters : numpy.ndarray\n",
    "            The filters of the observations.\n",
    "\n",
    "        Returns\n",
    "        -------\n",
    "        numpy.ndarray\n",
    "             The magnitudes of the object at the times and in the filters of the observations.\n",
    "        \"\"\"\n",
    "        lcMags = np.zeros(time.size, dtype=float)\n",
    "        for key in set(self.lcv_template['flt']):\n",
    "            fMatch_ascii = np.where(np.array(self.lcv_template['flt']) == key)[0]\n",
    "            # Interpolate the lightcurve template to the times of the observations, in this filter.\n",
    "            lc_ascii_filter = np.interp(time, np.array(self.lcv_template['ph'], float)[fMatch_ascii],\n",
    "                                        np.array(self.lcv_template['mag'], float)[fMatch_ascii])\n",
    "            lcMags[filters == key.decode(\"utf-8\")] = lc_ascii_filter[filters == key.decode(\"utf-8\")]\n",
    "        lcMags += self.peakOffset\n",
    "        return lcMags\n",
    "\n",
    "    def run(self, dataSlice, slicePoint=None):\n",
    "        \"\"\"\"Calculate the detectability of a transient with the specified lightcurve.\n",
    "\n",
    "        If self.dataout is True, then returns the full lightcurve for each object instead of the total\n",
    "        number of transients that are detected.\n",
    "\n",
    "        Parameters\n",
    "        ----------\n",
    "        dataSlice : numpy.array\n",
    "            Numpy structured array containing the data related to the visits provided by the slicer.\n",
    "        slicePoint : dict, optional\n",
    "            Dictionary containing information about the slicepoint currently active in the slicer.\n",
    "\n",
    "        Returns\n",
    "        -------\n",
    "        float or dict\n",
    "            The total number of transients that could be detected. (if dataout is False)\n",
    "            A dictionary with arrays of 'lcNumber', 'lcMag', 'detected', 'time', 'detectThresh', 'filter'\n",
    "        \"\"\"\n",
    "\n",
    "        # Sort the entire dataSlice in order of time.\n",
    "        dataSlice.sort(order=self.mjdCol)\n",
    "\n",
    "        # Check that surveyDuration is not larger than the time of observations we obtained.\n",
    "        # (if it is, then the nTransMax will not be accurate).\n",
    "        tSpan = (dataSlice[self.mjdCol].max() - dataSlice[self.mjdCol].min()) / 365.25\n",
    "        surveyDuration = np.max([tSpan, self.surveyDuration])\n",
    "\n",
    "        if self.surveyStart is None:\n",
    "            surveyStart = dataSlice[self.mjdCol].min()\n",
    "        else:\n",
    "            surveyStart = self.surveyStart\n",
    "\n",
    "        # Set up the starting times for each of the back-to-back sets of transients.\n",
    "        tshifts = np.arange(self.nPhaseCheck) * self.transDuration / float(self.nPhaseCheck)\n",
    "        # Total number of transient which have reached detection threshholds.\n",
    "        nDetected = 0\n",
    "        # Total number of transients which could possibly be detected,\n",
    "        # given survey duration and transient duration.\n",
    "        nTransMax = 0\n",
    "        # Set this, in case surveyStart was set to be much earlier than this data (so we start counting at 0).\n",
    "        lcNumberStart = -1 * np.floor((dataSlice[self.mjdCol].min() - surveyStart) / self.transDuration)\n",
    "\n",
    "        # Consider each different 'phase shift' separately.\n",
    "        # We then just have a series of lightcurves, taking place back-to-back.\n",
    "        for tshift in tshifts:\n",
    "            # Update the maximum possible transients that could have been observed during surveyDuration.\n",
    "            nTransMax += np.ceil(surveyDuration / (self.transDuration / 365.25))\n",
    "            # Calculate the time/epoch for each lightcurve.\n",
    "            lcEpoch = (dataSlice[self.mjdCol] - surveyStart + tshift) % self.transDuration\n",
    "            # Identify the observations which belong to each distinct light curve.\n",
    "            lcNumber = np.floor((dataSlice[self.mjdCol] - surveyStart) / self.transDuration) + lcNumberStart\n",
    "            lcNumberStart = lcNumber.max()\n",
    "            ulcNumber = np.unique(lcNumber)\n",
    "            lcLeft = np.searchsorted(lcNumber, ulcNumber, side='left')\n",
    "            lcRight = np.searchsorted(lcNumber, ulcNumber, side='right')\n",
    "\n",
    "            # Generate the actual light curve magnitudes and SNR\n",
    "            lcMags = self.make_lightCurve(lcEpoch, dataSlice[self.filterCol])\n",
    "            lcSNR = utils.m52snr(lcMags, dataSlice[self.m5Col])\n",
    "            # Identify which detections rise above the required SNR threshhold, in each filter.\n",
    "            lcAboveThresh = np.zeros(len(lcSNR), dtype=bool) # assume all false \n",
    "            for f in np.unique(dataSlice[self.filterCol]):\n",
    "                filtermatch = np.where(dataSlice[self.filterCol] == f)[0]\n",
    "                lcAboveThresh[filtermatch] = np.where(lcSNR[filtermatch] >= self.detectSNR[f],\n",
    "                                                      True,\n",
    "                                                      False)\n",
    "\n",
    "            # Track whether each individual light curve was detected.\n",
    "            # Start with the assumption that it is True, and if it fails criteria then becomes False.\n",
    "            lcDetect = np.ones(len(ulcNumber), dtype=bool)\n",
    "\n",
    "            # Loop through each lightcurve and check if it meets requirements.\n",
    "            for i,(lcN, le, ri) in enumerate(zip(ulcNumber, lcLeft, lcRight)):\n",
    "                lcN = i\n",
    "                # If there were no observations at all for this lightcurve:\n",
    "                if le == ri:\n",
    "                    lcDetect[lcN] = False\n",
    "                    # Skip the rest of this loop, go on to the next lightcurve.\n",
    "                    continue\n",
    "                lcEpochAboveThresh = lcEpoch[le:ri][np.where(lcAboveThresh[le:ri])]\n",
    "                # If we did not get enough detections before preT, set lcDetect to False.\n",
    "                timesPreT = np.where(lcEpochAboveThresh < self.preT)[0]\n",
    "                if len(timesPreT) < self.nPreT:\n",
    "                    lcDetect[lcN] = False\n",
    "                    continue\n",
    "                # If we did not get detections over enough sections of the lightcurve, set lcDtect to False.\n",
    "                phaseSections = np.unique(np.floor(lcEpochAboveThresh / self.transDuration * self.nPerLC))\n",
    "                if len(phaseSections) < self.nPerLC:\n",
    "                    lcDetect[lcN] = False\n",
    "                    continue\n",
    "                # If we did not get detections in enough filters, set lcDetect to False.\n",
    "                lcFilters = dataSlice[le:ri][np.where(lcAboveThresh[le:ri])][self.filterCol]\n",
    "                if len(np.unique(lcFilters)) < self.nFilters:\n",
    "                    lcDetect[lcN] = False\n",
    "                    continue\n",
    "                #--------------------------------------------------------\n",
    "                # add new variable to __init__, nFiltersPreT\n",
    "                # If we did not get detections in enough filters before preT, set lcDetect to False.\n",
    "                #lcFiltersPreT = dataSlice[le:ri][np.where(lcAboveThresh<self.preT)][self.filterCol]\n",
    "                #if len(np.unique(lcFiltersPreT))<self.nFiltersPreT:\n",
    "                #  lcDetect[lcN] = False\n",
    "                #   continue\n",
    "\n",
    "                #---------------------------------------------------------\n",
    "\n",
    "                # If we did not get detections in enough filters within required time, set lcDetect to False.\n",
    "                if (self.filterT is not None) and (self.nFilters > 1):\n",
    "                    xr = np.searchsorted(lcEpochAboveThresh, lcEpochAboveThresh + self.filterT, 'right')\n",
    "                    xr = np.where(xr < len(lcEpochAboveThresh) - 1, xr, len(lcEpochAboveThresh) - 1)\n",
    "                    foundGood = False\n",
    "                    for i, xri in enumerate(xr):\n",
    "                        if len(np.unique(lcFilters[i:xri])) >= self.nFilters:\n",
    "                            foundGood = True\n",
    "                            break\n",
    "                    if not foundGood:\n",
    "                        lcDetect[lcN] = False\n",
    "                        continue\n",
    "                # Done with current set of conditions.\n",
    "                # (more complicated conditions should go later in the loop, simpler ones earlier).\n",
    "\n",
    "            # Find the unique number of light curves that passed the required number of conditions\n",
    "            nDetected += len(np.where(lcDetect == True)[0])\n",
    "\n",
    "        if self.dataout:\n",
    "            # Output all the light curves, regardless of detection threshhold,\n",
    "            # but indicate which were 'detected'.\n",
    "            lcDetectOut = np.ones(len(dataSlice), dtype=bool)\n",
    "            for i, lcN in enumerate(lcNumber):\n",
    "                lcDetectOut[i] = lcDetect[int(lcN)]\n",
    "            return {'lcNumber': lcNumber, 'expMJD': dataSlice[self.mjdCol], 'epoch': lcEpoch,\n",
    "                    'filter': dataSlice[self.filterCol], 'lcMag': lcMags, 'SNR': lcSNR,\n",
    "                    'detected': lcDetectOut}\n",
    "        else:\n",
    "            return float(nDetected) / nTransMax\n"
   ]
  },
  {
   "cell_type": "code",
   "execution_count": 4,
   "metadata": {
    "code_folding": [],
    "scrolled": false
   },
   "outputs": [
    {
     "name": "stdout",
     "output_type": "stream",
     "text": [
      "Healpix slicer using NSIDE=16, approximate resolution 219.871130 arcminutes\n",
      "Querying database SummaryAllProps with constraint night<200 for columns ['fieldRA', 'fiveSigmaDepth', 'observationStartMJD', 'fieldDec', 'filter']\n",
      "Found 133944 visits\n",
      "Running:  ['transmetricSky']\n",
      "Completed metric generation.\n",
      "Running reduce methods.\n",
      "Running summary statistics.\n",
      "Completed.\n",
      "Plotting figures with \"night<200\" constraint now.\n"
     ]
    },
    {
     "name": "stderr",
     "output_type": "stream",
     "text": [
      "/home/docmaf/stack/stack/miniconda3-4.3.21-10a4fa6/Linux64/healpy/1.10.3.lsst1+6/lib/python/healpy-1.10.3-py3.6-linux-x86_64.egg/healpy/projaxes.py:1027: MatplotlibDeprecationWarning: \n",
      "The iterable function was deprecated in Matplotlib 3.1 and will be removed in 3.3. Use np.iterable instead.\n",
      "  if matplotlib.cbook.iterable(value):\n",
      "/home/docmaf/stack/stack/miniconda3-4.3.21-10a4fa6/Linux64/healpy/1.10.3.lsst1+6/lib/python/healpy-1.10.3-py3.6-linux-x86_64.egg/healpy/projaxes.py:1027: MatplotlibDeprecationWarning: \n",
      "The iterable function was deprecated in Matplotlib 3.1 and will be removed in 3.3. Use np.iterable instead.\n",
      "  if matplotlib.cbook.iterable(value):\n",
      "/home/docmaf/stack/stack/miniconda3-4.3.21-10a4fa6/Linux64/healpy/1.10.3.lsst1+6/lib/python/healpy-1.10.3-py3.6-linux-x86_64.egg/healpy/projaxes.py:1027: MatplotlibDeprecationWarning: \n",
      "The iterable function was deprecated in Matplotlib 3.1 and will be removed in 3.3. Use np.iterable instead.\n",
      "  if matplotlib.cbook.iterable(value):\n",
      "/home/docmaf/stack/stack/miniconda3-4.3.21-10a4fa6/Linux64/healpy/1.10.3.lsst1+6/lib/python/healpy-1.10.3-py3.6-linux-x86_64.egg/healpy/projaxes.py:1027: MatplotlibDeprecationWarning: \n",
      "The iterable function was deprecated in Matplotlib 3.1 and will be removed in 3.3. Use np.iterable instead.\n",
      "  if matplotlib.cbook.iterable(value):\n"
     ]
    },
    {
     "name": "stdout",
     "output_type": "stream",
     "text": [
      "monopole: 0.143438  dipole: lon: 99.5171, lat: -29.1382, amp: 0.0866524\n",
      "Plotting complete.\n"
     ]
    },
    {
     "name": "stderr",
     "output_type": "stream",
     "text": [
      "/home/docmaf/stack/stack/miniconda3-4.3.21-10a4fa6/Linux64/healpy/1.10.3.lsst1+6/lib/python/healpy-1.10.3-py3.6-linux-x86_64.egg/healpy/projaxes.py:1027: MatplotlibDeprecationWarning: \n",
      "The iterable function was deprecated in Matplotlib 3.1 and will be removed in 3.3. Use np.iterable instead.\n",
      "  if matplotlib.cbook.iterable(value):\n"
     ]
    },
    {
     "data": {
      "image/png": "[encoded data removed]",
      "text/plain": [
       "<Figure size 432x288 with 2 Axes>"
      ]
     },
     "metadata": {},
     "output_type": "display_data"
    },
    {
     "data": {
      "image/png": "[encoded data removed]",
      "text/plain": [
       "<Figure size 432x288 with 1 Axes>"
      ]
     },
     "metadata": {},
     "output_type": "display_data"
    },
    {
     "data": {
      "image/png": "[encoded data removed]",
      "text/plain": [
       "<Figure size 432x288 with 1 Axes>"
      ]
     },
     "metadata": {},
     "output_type": "display_data"
    }
   ],
   "source": [
    "transmetric = TransientAsciiMetricNew('tde.dat', surveyDuration=1, mjdCol='observationStartMJD', detectSNR={'u': 5, 'g': 5, 'r': 5, 'i': 5, 'z': 5, 'y': 5},\n",
    "                                      nPreT=1, preT=10, nFilters=0, filterT=None, nPerLC=2, peakOffset=0, dataout=False)\n",
    "slicer = slicers.HealpixSlicer(nside=16) \n",
    "#year = 1\n",
    "#sqlconstraint = 'night between %d and %d' % (365.25 * year, 365.25 * (year + 1))\n",
    "sqlconstraint = 'night<200'\n",
    "transmetricSky = metricBundles.MetricBundle(transmetric,slicer,sqlconstraint)\n",
    "\n",
    "group = metricBundles.MetricBundleGroup({'transmetricSky':transmetricSky},opsdb,outDir=outDir,resultsDb=resultsDb)\n",
    "group.runAll()\n",
    "group.plotAll(closefigs=False)"
   ]
  },
  {
   "cell_type": "markdown",
   "metadata": {},
   "source": [
    "## pull light curve"
   ]
  },
  {
   "cell_type": "code",
   "execution_count": 33,
   "metadata": {
    "scrolled": true
   },
   "outputs": [
    {
     "name": "stdout",
     "output_type": "stream",
     "text": [
      "Querying database SummaryAllProps with constraint night between 365 and 730 for columns ['observationStartMJD', 'fieldRA', 'fieldDec', 'fiveSigmaDepth', 'filter']\n",
      "Found 225637 visits\n",
      "Running:  ['transmetricSky']\n",
      "Completed metric generation.\n",
      "Running reduce methods.\n",
      "Running summary statistics.\n",
      "Completed.\n",
      "Plotting figures with \"night between 365 and 730\" constraint now.\n",
      "Plotting complete.\n"
     ]
    },
    {
     "name": "stderr",
     "output_type": "stream",
     "text": [
      "/home/docmaf/repos/sims_maf/python/lsst/sims/maf/plots/plotHandler.py:517: UserWarning: Cannot plot object metric values with this plotter.\n",
      "  warnings.warn('Cannot plot object metric values with this plotter.')\n"
     ]
    }
   ],
   "source": [
    "# get light curve of a pointSlicer\n",
    "\n",
    "transmetric = TransientAsciiMetricNew('tde.dat', surveyDuration=1, mjdCol='observationStartMJD', detectSNR={'u': 5, 'g': 5, 'r': 5, 'i': 5, 'z': 5, 'y': 5},\n",
    "                                      nPreT=1, preT=10, nFilters=0, filterT=None, nPerLC=2, peakOffset=0, dataout=True)\n",
    "\n",
    "#ra = np.array([ 34.39339593,  73.58279239,  97.45622484,  94.92638699])\n",
    "#dec = np.array([ -5.09032894,   0.1873572 , -37.70921729, -18.53667436])\n",
    "ra = np.array([34.39339593])\n",
    "dec = np.array([-5.09032894])\n",
    "\n",
    "slicer = slicers.UserPointsSlicer(ra, dec)\n",
    "\n",
    "#slicer = slicers.HealpixSlicer(nside=32) \n",
    "\n",
    "year = 1\n",
    "sqlconstraint = 'night between %d and %d' % (365.25 * year, 365.25 * (year + 1))\n",
    "transmetricSky = metricBundles.MetricBundle(transmetric,slicer,sqlconstraint)\n",
    "\n",
    "group = metricBundles.MetricBundleGroup({'transmetricSky':transmetricSky},opsdb,outDir=outDir,resultsDb=resultsDb)\n",
    "group.runAll()\n",
    "group.plotAll(closefigs=False)"
   ]
  },
  {
   "cell_type": "code",
   "execution_count": 34,
   "metadata": {},
   "outputs": [],
   "source": [
    "data = transmetricSky.metricValues.data[0]"
   ]
  },
  {
   "cell_type": "code",
   "execution_count": 35,
   "metadata": {
    "scrolled": true
   },
   "outputs": [
    {
     "data": {
      "text/plain": [
       "dict_keys(['lcNumber', 'expMJD', 'epoch', 'filter', 'lcMag', 'SNR', 'detected'])"
      ]
     },
     "execution_count": 35,
     "metadata": {},
     "output_type": "execute_result"
    }
   ],
   "source": [
    "data.keys()"
   ]
  },
  {
   "cell_type": "code",
   "execution_count": 36,
   "metadata": {},
   "outputs": [],
   "source": [
    "df = pd.DataFrame(data)"
   ]
  },
  {
   "cell_type": "code",
   "execution_count": 70,
   "metadata": {},
   "outputs": [
    {
     "data": {
      "text/html": [
       "<div>\n",
       "<style>\n",
       "    .dataframe thead tr:only-child th {\n",
       "        text-align: right;\n",
       "    }\n",
       "\n",
       "    .dataframe thead th {\n",
       "        text-align: left;\n",
       "    }\n",
       "\n",
       "    .dataframe tbody tr th {\n",
       "        vertical-align: top;\n",
       "    }\n",
       "</style>\n",
       "<table border=\"1\" class=\"dataframe\">\n",
       "  <thead>\n",
       "    <tr style=\"text-align: right;\">\n",
       "      <th></th>\n",
       "      <th>SNR</th>\n",
       "      <th>detected</th>\n",
       "      <th>epoch</th>\n",
       "      <th>expMJD</th>\n",
       "      <th>filter</th>\n",
       "      <th>lcMag</th>\n",
       "      <th>lcNumber</th>\n",
       "    </tr>\n",
       "  </thead>\n",
       "  <tbody>\n",
       "    <tr>\n",
       "      <th>0</th>\n",
       "      <td>3.195455e+09</td>\n",
       "      <td>False</td>\n",
       "      <td>0.000000</td>\n",
       "      <td>60221.236157</td>\n",
       "      <td>y</td>\n",
       "      <td>0.000000</td>\n",
       "      <td>0.0</td>\n",
       "    </tr>\n",
       "    <tr>\n",
       "      <th>1</th>\n",
       "      <td>4.340574e+02</td>\n",
       "      <td>False</td>\n",
       "      <td>1.992303</td>\n",
       "      <td>60223.228461</td>\n",
       "      <td>r</td>\n",
       "      <td>19.059354</td>\n",
       "      <td>0.0</td>\n",
       "    </tr>\n",
       "    <tr>\n",
       "      <th>2</th>\n",
       "      <td>4.342279e+02</td>\n",
       "      <td>False</td>\n",
       "      <td>1.992720</td>\n",
       "      <td>60223.228877</td>\n",
       "      <td>r</td>\n",
       "      <td>19.059325</td>\n",
       "      <td>0.0</td>\n",
       "    </tr>\n",
       "    <tr>\n",
       "      <th>3</th>\n",
       "      <td>4.343986e+02</td>\n",
       "      <td>False</td>\n",
       "      <td>1.993137</td>\n",
       "      <td>60223.229294</td>\n",
       "      <td>r</td>\n",
       "      <td>19.059296</td>\n",
       "      <td>0.0</td>\n",
       "    </tr>\n",
       "    <tr>\n",
       "      <th>4</th>\n",
       "      <td>4.345694e+02</td>\n",
       "      <td>False</td>\n",
       "      <td>1.993553</td>\n",
       "      <td>60223.229711</td>\n",
       "      <td>r</td>\n",
       "      <td>19.059268</td>\n",
       "      <td>0.0</td>\n",
       "    </tr>\n",
       "  </tbody>\n",
       "</table>\n",
       "</div>"
      ],
      "text/plain": [
       "            SNR  detected     epoch        expMJD filter      lcMag  lcNumber\n",
       "0  3.195455e+09     False  0.000000  60221.236157      y   0.000000       0.0\n",
       "1  4.340574e+02     False  1.992303  60223.228461      r  19.059354       0.0\n",
       "2  4.342279e+02     False  1.992720  60223.228877      r  19.059325       0.0\n",
       "3  4.343986e+02     False  1.993137  60223.229294      r  19.059296       0.0\n",
       "4  4.345694e+02     False  1.993553  60223.229711      r  19.059268       0.0"
      ]
     },
     "execution_count": 70,
     "metadata": {},
     "output_type": "execute_result"
    }
   ],
   "source": [
    "df.head(5)"
   ]
  },
  {
   "cell_type": "code",
   "execution_count": 43,
   "metadata": {},
   "outputs": [],
   "source": [
    "df_0 = df[df['lcNumber']==0.0]\n",
    "df_1 = df[df['lcNumber']==1.0]"
   ]
  },
  {
   "cell_type": "code",
   "execution_count": 67,
   "metadata": {},
   "outputs": [],
   "source": [
    "df_0_ = df_0[df_0['lcMag']!=0.0]\n",
    "df_1_ = df_1[df_1['lcMag']!=0.0]"
   ]
  },
  {
   "cell_type": "code",
   "execution_count": 68,
   "metadata": {
    "scrolled": true
   },
   "outputs": [
    {
     "data": {
      "image/png": "[encoded data removed]",
      "text/plain": [
       "<Figure size 432x288 with 1 Axes>"
      ]
     },
     "metadata": {},
     "output_type": "display_data"
    }
   ],
   "source": [
    "filters = np.unique(df_0_['filter'])\n",
    "colors = {'u': 'k', 'g': 'cyan', 'r': 'g', 'i': 'r', 'z': 'y', 'y': 'orange'}\n",
    "\n",
    "for fi in filters:\n",
    "    time = df_0_['epoch'][df_0_['filter']==fi]\n",
    "    mag = df_0_['lcMag'][df_0_['filter']==fi]\n",
    "    \n",
    "    plt.plot(time, mag, color=colors[fi], marker = '*')\n",
    "    \n",
    "    plt.ylim([19.5, 17.5])\n",
    "    \n",
    "    "
   ]
  },
  {
   "cell_type": "markdown",
   "metadata": {},
   "source": [
    "## Importance Rankings\n",
    "\n",
    "- Image quality\n",
    "- Sky brightness\n",
    "- Individual image depth\n",
    "- Coadded image depth\n",
    "- Number of exposures in a visit\n",
    "- Number of visits (in a night)\n",
    "- Total number of visits \n",
    "- Time between visits (in a night)\n",
    "- Long-term gaps between visits"
   ]
  },
  {
   "cell_type": "code",
   "execution_count": 31,
   "metadata": {},
   "outputs": [],
   "source": [
    "class ImportanceTestMetric(metrics.BaseMetric):\n",
    "    \"\"\"\n",
    "    returns required data \n",
    "    \"\"\"\n",
    "    \n",
    "    def __init__(self, colname=['seeingFwhmEff', 'skyBrightness', 'fiveSigmaDepth', 'numExposures'], **kwargs):\n",
    "        self.colname = colname\n",
    "        self.seeingFwhmEff = colname[0]\n",
    "        self.skyBrightness = colname[1]\n",
    "        self.fiveSigmaDepth = colname[2]\n",
    "        self.numExposures = colname[3]\n",
    "        \n",
    "        super().__init__(col=colname, metricDtype='float', **kwargs)\n",
    "        \n",
    "        \n",
    "    def run(self, dataSlice, slicePoint=None):\n",
    "        \n",
    "        # image quality\n",
    "        image_quality = np.mean(dataSlice[self.seeingFwhmEff])\n",
    "        \n",
    "        # sky brightness\n",
    "        sky_brightness = np.mean(dataSlice[self.skyBrightness])\n",
    "        \n",
    "        # individual image depth\n",
    "        image_depth = np.mean(dataSlice[self.fiveSigmaDepth])\n",
    "        \n",
    "        # coadded image depth\n",
    "        \n",
    "        \n",
    "        # number of exposures in a visit\n",
    "        num_exposures = np.mean(dataSlice[self.numExposures])\n",
    "        \n",
    "        # return importance weitght grade\n",
    "        result = image_quality + sky_brightness + image_depth + num_exposures\n",
    "        \n",
    "        return float(result)"
   ]
  },
  {
   "cell_type": "code",
   "execution_count": 32,
   "metadata": {},
   "outputs": [
    {
     "name": "stdout",
     "output_type": "stream",
     "text": [
      "Healpix slicer using NSIDE=16, approximate resolution 219.871130 arcminutes\n",
      "Querying database SummaryAllProps with constraint night<20 for columns ['fieldRA', 'skyBrightness', 'numExposures', 'fieldDec', 'fiveSigmaDepth', 'seeingFwhmEff']\n",
      "Found 15051 visits\n",
      "Running:  ['Sky']\n",
      "Completed metric generation.\n",
      "Running reduce methods.\n",
      "Running summary statistics.\n",
      "Completed.\n",
      "Plotting figures with \"night<20\" constraint now.\n"
     ]
    },
    {
     "name": "stderr",
     "output_type": "stream",
     "text": [
      "/home/docmaf/stack/stack/miniconda3-4.3.21-10a4fa6/Linux64/healpy/1.10.3.lsst1+6/lib/python/healpy-1.10.3-py3.6-linux-x86_64.egg/healpy/projaxes.py:1027: MatplotlibDeprecationWarning: \n",
      "The iterable function was deprecated in Matplotlib 3.1 and will be removed in 3.3. Use np.iterable instead.\n",
      "  if matplotlib.cbook.iterable(value):\n",
      "/home/docmaf/stack/stack/miniconda3-4.3.21-10a4fa6/Linux64/healpy/1.10.3.lsst1+6/lib/python/healpy-1.10.3-py3.6-linux-x86_64.egg/healpy/projaxes.py:1027: MatplotlibDeprecationWarning: \n",
      "The iterable function was deprecated in Matplotlib 3.1 and will be removed in 3.3. Use np.iterable instead.\n",
      "  if matplotlib.cbook.iterable(value):\n",
      "/home/docmaf/stack/stack/miniconda3-4.3.21-10a4fa6/Linux64/healpy/1.10.3.lsst1+6/lib/python/healpy-1.10.3-py3.6-linux-x86_64.egg/healpy/projaxes.py:1027: MatplotlibDeprecationWarning: \n",
      "The iterable function was deprecated in Matplotlib 3.1 and will be removed in 3.3. Use np.iterable instead.\n",
      "  if matplotlib.cbook.iterable(value):\n",
      "/home/docmaf/stack/stack/miniconda3-4.3.21-10a4fa6/Linux64/healpy/1.10.3.lsst1+6/lib/python/healpy-1.10.3-py3.6-linux-x86_64.egg/healpy/projaxes.py:1027: MatplotlibDeprecationWarning: \n",
      "The iterable function was deprecated in Matplotlib 3.1 and will be removed in 3.3. Use np.iterable instead.\n",
      "  if matplotlib.cbook.iterable(value):\n"
     ]
    },
    {
     "name": "stdout",
     "output_type": "stream",
     "text": [
      "monopole: 43.6242  dipole: lon: 1.10015, lat: 10.1304, amp: 1.23244\n",
      "Plotting complete.\n"
     ]
    },
    {
     "name": "stderr",
     "output_type": "stream",
     "text": [
      "/home/docmaf/stack/stack/miniconda3-4.3.21-10a4fa6/Linux64/healpy/1.10.3.lsst1+6/lib/python/healpy-1.10.3-py3.6-linux-x86_64.egg/healpy/projaxes.py:1027: MatplotlibDeprecationWarning: \n",
      "The iterable function was deprecated in Matplotlib 3.1 and will be removed in 3.3. Use np.iterable instead.\n",
      "  if matplotlib.cbook.iterable(value):\n"
     ]
    },
    {
     "data": {
      "image/png": "[encoded data removed]",
      "text/plain": [
       "<Figure size 432x288 with 2 Axes>"
      ]
     },
     "metadata": {},
     "output_type": "display_data"
    },
    {
     "data": {
      "image/png": "[encoded data removed]",
      "text/plain": [
       "<Figure size 432x288 with 1 Axes>"
      ]
     },
     "metadata": {},
     "output_type": "display_data"
    },
    {
     "data": {
      "image/png": "[encoded data removed]",
      "text/plain": [
       "<Figure size 432x288 with 1 Axes>"
      ]
     },
     "metadata": {},
     "output_type": "display_data"
    }
   ],
   "source": [
    "metric = ImportanceTestMetric()\n",
    "#slicer = slicers.UniSlicer()\n",
    "slicer = slicers.HealpixSlicer(nside=16)\n",
    "sqlconstraint = 'night<20'\n",
    "\n",
    "# bundle\n",
    "Sky = metricBundles.MetricBundle(metric, slicer, sqlconstraint)\n",
    "\n",
    "# group bundle\n",
    "bundleDict = {'Sky':Sky}\n",
    "group = metricBundles.MetricBundleGroup(bundleDict, opsdb, outDir = outDir, resultsDb=resultsDb)\n",
    "\n",
    "# run\n",
    "group.runAll()\n",
    "group.plotAll(closefigs = False)\n"
   ]
  },
  {
   "cell_type": "code",
   "execution_count": null,
   "metadata": {},
   "outputs": [],
   "source": []
  }
 ],
 "metadata": {
  "kernelspec": {
   "display_name": "Python 3",
   "language": "python",
   "name": "python3"
  },
  "language_info": {
   "codemirror_mode": {
    "name": "ipython",
    "version": 3
   },
   "file_extension": ".py",
   "mimetype": "text/x-python",
   "name": "python",
   "nbconvert_exporter": "python",
   "pygments_lexer": "ipython3",
   "version": "3.6.2"
  },
  "toc": {
   "base_numbering": 1,
   "nav_menu": {},
   "number_sections": false,
   "sideBar": true,
   "skip_h1_title": true,
   "title_cell": "Table of Contents",
   "title_sidebar": "Contents",
   "toc_cell": false,
   "toc_position": {},
   "toc_section_display": true,
   "toc_window_display": true
  },
  "varInspector": {
   "cols": {
    "lenName": 16,
    "lenType": 16,
    "lenVar": 40
   },
   "kernels_config": {
    "python": {
     "delete_cmd_postfix": "",
     "delete_cmd_prefix": "del ",
     "library": "var_list.py",
     "varRefreshCmd": "print(var_dic_list())"
    },
    "r": {
     "delete_cmd_postfix": ") ",
     "delete_cmd_prefix": "rm(",
     "library": "var_list.r",
     "varRefreshCmd": "cat(var_dic_list()) "
    }
   },
   "position": {
    "height": "144px",
    "left": "915px",
    "right": "20px",
    "top": "45px",
    "width": "350px"
   },
   "types_to_exclude": [
    "module",
    "function",
    "builtin_function_or_method",
    "instance",
    "_Feature"
   ],
   "window_display": true
  }
 },
 "nbformat": 4,
 "nbformat_minor": 2
}
